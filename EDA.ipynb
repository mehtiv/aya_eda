{
 "cells": [
  {
   "cell_type": "code",
   "execution_count": 1,
   "metadata": {},
   "outputs": [
    {
     "data": {
      "text/html": [
       "<style>.container { width:95% !important; }</style>"
      ],
      "text/plain": [
       "<IPython.core.display.HTML object>"
      ]
     },
     "metadata": {},
     "output_type": "display_data"
    }
   ],
   "source": [
    "from IPython.core.display import display, HTML\n",
    "display(HTML(\"<style>.container { width:95% !important; }</style>\"))"
   ]
  },
  {
   "cell_type": "code",
   "execution_count": 2,
   "metadata": {},
   "outputs": [],
   "source": [
    "import pandas as pd\n",
    "import numpy as np\n",
    "import json\n",
    "import seaborn as sns\n",
    "import matplotlib.pyplot as plt"
   ]
  },
  {
   "cell_type": "code",
   "execution_count": 3,
   "metadata": {},
   "outputs": [],
   "source": [
    "DATA_PATH = \"./Data/\""
   ]
  },
  {
   "cell_type": "markdown",
   "metadata": {},
   "source": [
    "### CV processing"
   ]
  },
  {
   "cell_type": "code",
   "execution_count": 9,
   "metadata": {},
   "outputs": [],
   "source": [
    "def read_cv(file):\n",
    "    with open(file,\"r\", encoding=\"utf8\") as f:\n",
    "        resume = json.load(f)\n",
    "        \n",
    "    title = resume['title']\n",
    "    experience_text = \"\"\n",
    "    for experience in resume['experience']:\n",
    "        experience_text = experience_text + experience['title'] + experience['description']\n",
    "    skills = \" \".join(resume['skills'])\n",
    "    \n",
    "    return (file.lower(), title.lower(), experience_text.lower(), skills.lower())"
   ]
  },
  {
   "cell_type": "code",
   "execution_count": 10,
   "metadata": {},
   "outputs": [],
   "source": [
    "import re\n",
    "def clean_data(example):\n",
    "    \n",
    "    spec_chars = '[!*:@#$]'\n",
    "    example = example[0], re.sub(spec_chars, '', example[1]), re.sub(spec_chars, '', example[2]), re.sub(spec_chars, '', example[3])\n",
    "    return example"
   ]
  },
  {
   "cell_type": "code",
   "execution_count": 11,
   "metadata": {},
   "outputs": [],
   "source": [
    "import os\n",
    "from os import listdir\n",
    "onlyfiles = [f for f in listdir(DATA_PATH+\"cv/\")]\n",
    "data = []\n",
    "for file in onlyfiles:\n",
    "    cv = read_cv(DATA_PATH+\"cv/\"+file)\n",
    "    data.append(clean_data(cv))\n",
    "    \n",
    "resume_data = pd.DataFrame(data=data,columns=['name_cv', 'title_cv', 'experience_cv', 'skills_cv'])"
   ]
  },
  {
   "cell_type": "code",
   "execution_count": 12,
   "metadata": {},
   "outputs": [
    {
     "data": {
      "text/html": [
       "<div>\n",
       "<style scoped>\n",
       "    .dataframe tbody tr th:only-of-type {\n",
       "        vertical-align: middle;\n",
       "    }\n",
       "\n",
       "    .dataframe tbody tr th {\n",
       "        vertical-align: top;\n",
       "    }\n",
       "\n",
       "    .dataframe thead th {\n",
       "        text-align: right;\n",
       "    }\n",
       "</style>\n",
       "<table border=\"1\" class=\"dataframe\">\n",
       "  <thead>\n",
       "    <tr style=\"text-align: right;\">\n",
       "      <th></th>\n",
       "      <th>name_cv</th>\n",
       "      <th>title_cv</th>\n",
       "      <th>experience_cv</th>\n",
       "      <th>skills_cv</th>\n",
       "    </tr>\n",
       "  </thead>\n",
       "  <tbody>\n",
       "    <tr>\n",
       "      <th>0</th>\n",
       "      <td>./data/cv/bi1.json</td>\n",
       "      <td>senior business intelligence analyst</td>\n",
       "      <td>senior business intelligence analyst- develop ...</td>\n",
       "      <td>sql ssrs crystal reports microsoft excel busin...</td>\n",
       "    </tr>\n",
       "    <tr>\n",
       "      <th>1</th>\n",
       "      <td>./data/cv/bi2.json</td>\n",
       "      <td>senior business intelligence developer</td>\n",
       "      <td>senior business intelligence developercreation...</td>\n",
       "      <td>ssrs c ssis t-sql vba r sql server reporting s...</td>\n",
       "    </tr>\n",
       "    <tr>\n",
       "      <th>2</th>\n",
       "      <td>./data/cv/bi3.json</td>\n",
       "      <td>business intelligence architect</td>\n",
       "      <td>business intelligence architectdesigning and i...</td>\n",
       "      <td>business intelligence data warehousing  report...</td>\n",
       "    </tr>\n",
       "    <tr>\n",
       "      <th>3</th>\n",
       "      <td>./data/cv/de1.json</td>\n",
       "      <td>data engineer</td>\n",
       "      <td>data engineerthe big data engineer programme i...</td>\n",
       "      <td>github mongodb docker maven big data analytics...</td>\n",
       "    </tr>\n",
       "    <tr>\n",
       "      <th>4</th>\n",
       "      <td>./data/cv/de2.json</td>\n",
       "      <td>senior big data engineer</td>\n",
       "      <td>big data scala engineerbuilding a greenfield i...</td>\n",
       "      <td>java enterprise edition spring framework sql m...</td>\n",
       "    </tr>\n",
       "  </tbody>\n",
       "</table>\n",
       "</div>"
      ],
      "text/plain": [
       "              name_cv                                title_cv  \\\n",
       "0  ./data/cv/bi1.json    senior business intelligence analyst   \n",
       "1  ./data/cv/bi2.json  senior business intelligence developer   \n",
       "2  ./data/cv/bi3.json         business intelligence architect   \n",
       "3  ./data/cv/de1.json                           data engineer   \n",
       "4  ./data/cv/de2.json                senior big data engineer   \n",
       "\n",
       "                                       experience_cv  \\\n",
       "0  senior business intelligence analyst- develop ...   \n",
       "1  senior business intelligence developercreation...   \n",
       "2  business intelligence architectdesigning and i...   \n",
       "3  data engineerthe big data engineer programme i...   \n",
       "4  big data scala engineerbuilding a greenfield i...   \n",
       "\n",
       "                                           skills_cv  \n",
       "0  sql ssrs crystal reports microsoft excel busin...  \n",
       "1  ssrs c ssis t-sql vba r sql server reporting s...  \n",
       "2  business intelligence data warehousing  report...  \n",
       "3  github mongodb docker maven big data analytics...  \n",
       "4  java enterprise edition spring framework sql m...  "
      ]
     },
     "execution_count": 12,
     "metadata": {},
     "output_type": "execute_result"
    }
   ],
   "source": [
    "resume_data.head(5)"
   ]
  },
  {
   "cell_type": "markdown",
   "metadata": {},
   "source": [
    "<style color=\"white\">dsj</style>"
   ]
  },
  {
   "cell_type": "markdown",
   "metadata": {},
   "source": [
    "<style color=\"white\">dsj</style>"
   ]
  },
  {
   "cell_type": "markdown",
   "metadata": {},
   "source": [
    "### Jobs Processing"
   ]
  },
  {
   "cell_type": "code",
   "execution_count": 13,
   "metadata": {},
   "outputs": [],
   "source": [
    "def read_job(file):\n",
    "    with open(file,\"r\", encoding=\"utf8\") as f:\n",
    "        job = json.load(f)\n",
    "    \n",
    "    title = job['title']\n",
    "    description = job['description']\n",
    "    \n",
    "    return (file.lower(), title.lower(), description.lower())"
   ]
  },
  {
   "cell_type": "code",
   "execution_count": 14,
   "metadata": {},
   "outputs": [],
   "source": [
    "# redondante \n",
    "import re\n",
    "def clean_data(example):\n",
    "    \n",
    "    spec_chars = '[!*:@#$]'\n",
    "    example = example[0], re.sub(spec_chars, '', example[1]), re.sub(spec_chars, '', example[2])\n",
    "    return example"
   ]
  },
  {
   "cell_type": "code",
   "execution_count": 15,
   "metadata": {},
   "outputs": [],
   "source": [
    "import os\n",
    "from os import listdir\n",
    "onlyfiles = [f for f in listdir(DATA_PATH+\"jobs/\")]\n",
    "data = []\n",
    "for file in onlyfiles:\n",
    "\n",
    "    job = read_job(DATA_PATH+\"jobs/\"+file)\n",
    "    data.append(clean_data(job))\n",
    "    \n",
    "job_data = pd.DataFrame(data=data,columns=['name_job', 'title_job', 'description_job'])"
   ]
  },
  {
   "cell_type": "code",
   "execution_count": 41,
   "metadata": {},
   "outputs": [
    {
     "data": {
      "text/html": [
       "<div>\n",
       "<style scoped>\n",
       "    .dataframe tbody tr th:only-of-type {\n",
       "        vertical-align: middle;\n",
       "    }\n",
       "\n",
       "    .dataframe tbody tr th {\n",
       "        vertical-align: top;\n",
       "    }\n",
       "\n",
       "    .dataframe thead th {\n",
       "        text-align: right;\n",
       "    }\n",
       "</style>\n",
       "<table border=\"1\" class=\"dataframe\">\n",
       "  <thead>\n",
       "    <tr style=\"text-align: right;\">\n",
       "      <th></th>\n",
       "      <th>name_job</th>\n",
       "      <th>title_job</th>\n",
       "      <th>description_job</th>\n",
       "    </tr>\n",
       "  </thead>\n",
       "  <tbody>\n",
       "    <tr>\n",
       "      <th>0</th>\n",
       "      <td>./data/jobs/bi1.json</td>\n",
       "      <td>senior manager business intelligence/data</td>\n",
       "      <td>this role is perfect for a data analysis and b...</td>\n",
       "    </tr>\n",
       "    <tr>\n",
       "      <th>1</th>\n",
       "      <td>./data/jobs/bi2.json</td>\n",
       "      <td>power bi developer</td>\n",
       "      <td>power bi developer  power bi developer - perma...</td>\n",
       "    </tr>\n",
       "    <tr>\n",
       "      <th>2</th>\n",
       "      <td>./data/jobs/bi3.json</td>\n",
       "      <td>power bi developer</td>\n",
       "      <td>new power bi developer position in with one of...</td>\n",
       "    </tr>\n",
       "    <tr>\n",
       "      <th>3</th>\n",
       "      <td>./data/jobs/bi4.json</td>\n",
       "      <td>senior bi anayst</td>\n",
       "      <td>exciting full stack senior bi developer role -...</td>\n",
       "    </tr>\n",
       "    <tr>\n",
       "      <th>4</th>\n",
       "      <td>./data/jobs/de1.json</td>\n",
       "      <td>data engineer</td>\n",
       "      <td>you have experience with client projects and i...</td>\n",
       "    </tr>\n",
       "  </tbody>\n",
       "</table>\n",
       "</div>"
      ],
      "text/plain": [
       "               name_job                                  title_job  \\\n",
       "0  ./data/jobs/bi1.json  senior manager business intelligence/data   \n",
       "1  ./data/jobs/bi2.json                         power bi developer   \n",
       "2  ./data/jobs/bi3.json                         power bi developer   \n",
       "3  ./data/jobs/bi4.json                           senior bi anayst   \n",
       "4  ./data/jobs/de1.json                              data engineer   \n",
       "\n",
       "                                     description_job  \n",
       "0  this role is perfect for a data analysis and b...  \n",
       "1  power bi developer  power bi developer - perma...  \n",
       "2  new power bi developer position in with one of...  \n",
       "3  exciting full stack senior bi developer role -...  \n",
       "4  you have experience with client projects and i...  "
      ]
     },
     "execution_count": 41,
     "metadata": {},
     "output_type": "execute_result"
    }
   ],
   "source": [
    "job_data.head(5)"
   ]
  },
  {
   "cell_type": "markdown",
   "metadata": {},
   "source": [
    "<style color=\"white\">dsj</style>"
   ]
  },
  {
   "cell_type": "markdown",
   "metadata": {},
   "source": [
    "<style color=\"white\">dsj</style>"
   ]
  },
  {
   "cell_type": "markdown",
   "metadata": {},
   "source": [
    "### Some processing"
   ]
  },
  {
   "cell_type": "code",
   "execution_count": 42,
   "metadata": {},
   "outputs": [],
   "source": [
    "resume_data['level'] = resume_data.apply(lambda x:'senior' if (x['title_cv'].find('senior') != -1 or x['experience_cv'].find('senior') != -1) else 'junior', axis =1)"
   ]
  },
  {
   "cell_type": "code",
   "execution_count": 43,
   "metadata": {},
   "outputs": [
    {
     "data": {
      "text/html": [
       "<div>\n",
       "<style scoped>\n",
       "    .dataframe tbody tr th:only-of-type {\n",
       "        vertical-align: middle;\n",
       "    }\n",
       "\n",
       "    .dataframe tbody tr th {\n",
       "        vertical-align: top;\n",
       "    }\n",
       "\n",
       "    .dataframe thead th {\n",
       "        text-align: right;\n",
       "    }\n",
       "</style>\n",
       "<table border=\"1\" class=\"dataframe\">\n",
       "  <thead>\n",
       "    <tr style=\"text-align: right;\">\n",
       "      <th></th>\n",
       "      <th>name_cv</th>\n",
       "      <th>title_cv</th>\n",
       "      <th>experience_cv</th>\n",
       "      <th>skills_cv</th>\n",
       "      <th>level</th>\n",
       "    </tr>\n",
       "  </thead>\n",
       "  <tbody>\n",
       "    <tr>\n",
       "      <th>0</th>\n",
       "      <td>./data/cv/bi1.json</td>\n",
       "      <td>senior business intelligence analyst</td>\n",
       "      <td>senior business intelligence analyst- develop ...</td>\n",
       "      <td>sql ssrs crystal reports microsoft excel busin...</td>\n",
       "      <td>senior</td>\n",
       "    </tr>\n",
       "    <tr>\n",
       "      <th>1</th>\n",
       "      <td>./data/cv/bi2.json</td>\n",
       "      <td>senior business intelligence developer</td>\n",
       "      <td>senior business intelligence developercreation...</td>\n",
       "      <td>ssrs c ssis t-sql vba r sql server reporting s...</td>\n",
       "      <td>senior</td>\n",
       "    </tr>\n",
       "    <tr>\n",
       "      <th>2</th>\n",
       "      <td>./data/cv/bi3.json</td>\n",
       "      <td>business intelligence architect</td>\n",
       "      <td>business intelligence architectdesigning and i...</td>\n",
       "      <td>business intelligence data warehousing  report...</td>\n",
       "      <td>junior</td>\n",
       "    </tr>\n",
       "    <tr>\n",
       "      <th>3</th>\n",
       "      <td>./data/cv/de1.json</td>\n",
       "      <td>data engineer</td>\n",
       "      <td>data engineerthe big data engineer programme i...</td>\n",
       "      <td>github mongodb docker maven big data analytics...</td>\n",
       "      <td>junior</td>\n",
       "    </tr>\n",
       "    <tr>\n",
       "      <th>4</th>\n",
       "      <td>./data/cv/de2.json</td>\n",
       "      <td>senior big data engineer</td>\n",
       "      <td>big data scala engineerbuilding a greenfield i...</td>\n",
       "      <td>java enterprise edition spring framework sql m...</td>\n",
       "      <td>senior</td>\n",
       "    </tr>\n",
       "  </tbody>\n",
       "</table>\n",
       "</div>"
      ],
      "text/plain": [
       "              name_cv                                title_cv  \\\n",
       "0  ./data/cv/bi1.json    senior business intelligence analyst   \n",
       "1  ./data/cv/bi2.json  senior business intelligence developer   \n",
       "2  ./data/cv/bi3.json         business intelligence architect   \n",
       "3  ./data/cv/de1.json                           data engineer   \n",
       "4  ./data/cv/de2.json                senior big data engineer   \n",
       "\n",
       "                                       experience_cv  \\\n",
       "0  senior business intelligence analyst- develop ...   \n",
       "1  senior business intelligence developercreation...   \n",
       "2  business intelligence architectdesigning and i...   \n",
       "3  data engineerthe big data engineer programme i...   \n",
       "4  big data scala engineerbuilding a greenfield i...   \n",
       "\n",
       "                                           skills_cv   level  \n",
       "0  sql ssrs crystal reports microsoft excel busin...  senior  \n",
       "1  ssrs c ssis t-sql vba r sql server reporting s...  senior  \n",
       "2  business intelligence data warehousing  report...  junior  \n",
       "3  github mongodb docker maven big data analytics...  junior  \n",
       "4  java enterprise edition spring framework sql m...  senior  "
      ]
     },
     "execution_count": 43,
     "metadata": {},
     "output_type": "execute_result"
    }
   ],
   "source": [
    "resume_data.head(5)"
   ]
  },
  {
   "cell_type": "code",
   "execution_count": 44,
   "metadata": {},
   "outputs": [],
   "source": [
    "job_data['level'] = job_data.apply(lambda x:'senior' if (x['title_job'].find('senior') != -1 or x['description_job'].find('senior') != -1) else 'junior', axis =1)"
   ]
  },
  {
   "cell_type": "code",
   "execution_count": 45,
   "metadata": {},
   "outputs": [
    {
     "data": {
      "text/html": [
       "<div>\n",
       "<style scoped>\n",
       "    .dataframe tbody tr th:only-of-type {\n",
       "        vertical-align: middle;\n",
       "    }\n",
       "\n",
       "    .dataframe tbody tr th {\n",
       "        vertical-align: top;\n",
       "    }\n",
       "\n",
       "    .dataframe thead th {\n",
       "        text-align: right;\n",
       "    }\n",
       "</style>\n",
       "<table border=\"1\" class=\"dataframe\">\n",
       "  <thead>\n",
       "    <tr style=\"text-align: right;\">\n",
       "      <th></th>\n",
       "      <th>name_job</th>\n",
       "      <th>title_job</th>\n",
       "      <th>description_job</th>\n",
       "      <th>level</th>\n",
       "    </tr>\n",
       "  </thead>\n",
       "  <tbody>\n",
       "    <tr>\n",
       "      <th>0</th>\n",
       "      <td>./data/jobs/bi1.json</td>\n",
       "      <td>senior manager business intelligence/data</td>\n",
       "      <td>this role is perfect for a data analysis and b...</td>\n",
       "      <td>senior</td>\n",
       "    </tr>\n",
       "    <tr>\n",
       "      <th>1</th>\n",
       "      <td>./data/jobs/bi2.json</td>\n",
       "      <td>power bi developer</td>\n",
       "      <td>power bi developer  power bi developer - perma...</td>\n",
       "      <td>junior</td>\n",
       "    </tr>\n",
       "    <tr>\n",
       "      <th>2</th>\n",
       "      <td>./data/jobs/bi3.json</td>\n",
       "      <td>power bi developer</td>\n",
       "      <td>new power bi developer position in with one of...</td>\n",
       "      <td>senior</td>\n",
       "    </tr>\n",
       "    <tr>\n",
       "      <th>3</th>\n",
       "      <td>./data/jobs/bi4.json</td>\n",
       "      <td>senior bi anayst</td>\n",
       "      <td>exciting full stack senior bi developer role -...</td>\n",
       "      <td>senior</td>\n",
       "    </tr>\n",
       "    <tr>\n",
       "      <th>4</th>\n",
       "      <td>./data/jobs/de1.json</td>\n",
       "      <td>data engineer</td>\n",
       "      <td>you have experience with client projects and i...</td>\n",
       "      <td>junior</td>\n",
       "    </tr>\n",
       "    <tr>\n",
       "      <th>5</th>\n",
       "      <td>./data/jobs/de2.json</td>\n",
       "      <td>data engineer</td>\n",
       "      <td>as a data engineer (cloud, financial, data inf...</td>\n",
       "      <td>junior</td>\n",
       "    </tr>\n",
       "    <tr>\n",
       "      <th>6</th>\n",
       "      <td>./data/jobs/de3.json</td>\n",
       "      <td>data engineer</td>\n",
       "      <td>we are looking for a data engineer to join our...</td>\n",
       "      <td>junior</td>\n",
       "    </tr>\n",
       "    <tr>\n",
       "      <th>7</th>\n",
       "      <td>./data/jobs/de4.json</td>\n",
       "      <td>associate data engineer</td>\n",
       "      <td>a bit about the role and what you'll do... be ...</td>\n",
       "      <td>junior</td>\n",
       "    </tr>\n",
       "    <tr>\n",
       "      <th>8</th>\n",
       "      <td>./data/jobs/ds1.json</td>\n",
       "      <td>data science</td>\n",
       "      <td>mission and main objectives  to strengthen the...</td>\n",
       "      <td>junior</td>\n",
       "    </tr>\n",
       "    <tr>\n",
       "      <th>9</th>\n",
       "      <td>./data/jobs/ds2.json</td>\n",
       "      <td>senior data science</td>\n",
       "      <td>the economist is seeking a data scientist to j...</td>\n",
       "      <td>senior</td>\n",
       "    </tr>\n",
       "    <tr>\n",
       "      <th>10</th>\n",
       "      <td>./data/jobs/ds3.json</td>\n",
       "      <td>data science</td>\n",
       "      <td>are you passionate about transforming and shap...</td>\n",
       "      <td>senior</td>\n",
       "    </tr>\n",
       "    <tr>\n",
       "      <th>11</th>\n",
       "      <td>./data/jobs/ds4.json</td>\n",
       "      <td>data scientist</td>\n",
       "      <td>as a data scientist, you’ll use global data fr...</td>\n",
       "      <td>junior</td>\n",
       "    </tr>\n",
       "    <tr>\n",
       "      <th>12</th>\n",
       "      <td>./data/jobs/erp1.json</td>\n",
       "      <td>erp analytics assistant manager</td>\n",
       "      <td>our projects include extracting, analysing and...</td>\n",
       "      <td>junior</td>\n",
       "    </tr>\n",
       "    <tr>\n",
       "      <th>13</th>\n",
       "      <td>./data/jobs/erp2.json</td>\n",
       "      <td>erp analytics senior manager</td>\n",
       "      <td>our ‘erp analytics’ capability sits within tec...</td>\n",
       "      <td>senior</td>\n",
       "    </tr>\n",
       "    <tr>\n",
       "      <th>14</th>\n",
       "      <td>./data/jobs/erp3.json</td>\n",
       "      <td>erp business systems analyst</td>\n",
       "      <td>role be emea infor xa subject-matter expert, c...</td>\n",
       "      <td>senior</td>\n",
       "    </tr>\n",
       "    <tr>\n",
       "      <th>15</th>\n",
       "      <td>./data/jobs/erp4.json</td>\n",
       "      <td>erp business analyst</td>\n",
       "      <td>erp business analyst – transformation program ...</td>\n",
       "      <td>senior</td>\n",
       "    </tr>\n",
       "    <tr>\n",
       "      <th>16</th>\n",
       "      <td>./data/jobs/hr1.json</td>\n",
       "      <td>senior technical recruiter</td>\n",
       "      <td>we are looking for an ambitious person with a ...</td>\n",
       "      <td>senior</td>\n",
       "    </tr>\n",
       "    <tr>\n",
       "      <th>17</th>\n",
       "      <td>./data/jobs/hr2.json</td>\n",
       "      <td>lead technical recruiter</td>\n",
       "      <td>currently we are looking to recruit an ambitio...</td>\n",
       "      <td>senior</td>\n",
       "    </tr>\n",
       "    <tr>\n",
       "      <th>18</th>\n",
       "      <td>./data/jobs/hr3.json</td>\n",
       "      <td>technical recruiter</td>\n",
       "      <td>we are building a world-class team to help dri...</td>\n",
       "      <td>junior</td>\n",
       "    </tr>\n",
       "    <tr>\n",
       "      <th>19</th>\n",
       "      <td>./data/jobs/hr4.json</td>\n",
       "      <td>it junior recruiter</td>\n",
       "      <td>as it junior recruiter for emea you will proac...</td>\n",
       "      <td>junior</td>\n",
       "    </tr>\n",
       "    <tr>\n",
       "      <th>20</th>\n",
       "      <td>./data/jobs/web1.json</td>\n",
       "      <td>web development project manager</td>\n",
       "      <td>we’re looking for an experienced and motivated...</td>\n",
       "      <td>junior</td>\n",
       "    </tr>\n",
       "    <tr>\n",
       "      <th>21</th>\n",
       "      <td>./data/jobs/web2.json</td>\n",
       "      <td>senior web engineer</td>\n",
       "      <td>this leading electronic trading broker has bee...</td>\n",
       "      <td>senior</td>\n",
       "    </tr>\n",
       "    <tr>\n",
       "      <th>22</th>\n",
       "      <td>./data/jobs/web3.json</td>\n",
       "      <td>senior front end developer</td>\n",
       "      <td>i am working exclusively with a global trading...</td>\n",
       "      <td>senior</td>\n",
       "    </tr>\n",
       "    <tr>\n",
       "      <th>23</th>\n",
       "      <td>./data/jobs/web4.json</td>\n",
       "      <td>front-end software engineer</td>\n",
       "      <td>reuters is seeking an experienced front-end so...</td>\n",
       "      <td>junior</td>\n",
       "    </tr>\n",
       "  </tbody>\n",
       "</table>\n",
       "</div>"
      ],
      "text/plain": [
       "                 name_job                                  title_job  \\\n",
       "0    ./data/jobs/bi1.json  senior manager business intelligence/data   \n",
       "1    ./data/jobs/bi2.json                         power bi developer   \n",
       "2    ./data/jobs/bi3.json                         power bi developer   \n",
       "3    ./data/jobs/bi4.json                           senior bi anayst   \n",
       "4    ./data/jobs/de1.json                              data engineer   \n",
       "5    ./data/jobs/de2.json                              data engineer   \n",
       "6    ./data/jobs/de3.json                              data engineer   \n",
       "7    ./data/jobs/de4.json                    associate data engineer   \n",
       "8    ./data/jobs/ds1.json                               data science   \n",
       "9    ./data/jobs/ds2.json                        senior data science   \n",
       "10   ./data/jobs/ds3.json                               data science   \n",
       "11   ./data/jobs/ds4.json                             data scientist   \n",
       "12  ./data/jobs/erp1.json            erp analytics assistant manager   \n",
       "13  ./data/jobs/erp2.json               erp analytics senior manager   \n",
       "14  ./data/jobs/erp3.json               erp business systems analyst   \n",
       "15  ./data/jobs/erp4.json                       erp business analyst   \n",
       "16   ./data/jobs/hr1.json                 senior technical recruiter   \n",
       "17   ./data/jobs/hr2.json                   lead technical recruiter   \n",
       "18   ./data/jobs/hr3.json                        technical recruiter   \n",
       "19   ./data/jobs/hr4.json                        it junior recruiter   \n",
       "20  ./data/jobs/web1.json            web development project manager   \n",
       "21  ./data/jobs/web2.json                        senior web engineer   \n",
       "22  ./data/jobs/web3.json                 senior front end developer   \n",
       "23  ./data/jobs/web4.json                front-end software engineer   \n",
       "\n",
       "                                      description_job   level  \n",
       "0   this role is perfect for a data analysis and b...  senior  \n",
       "1   power bi developer  power bi developer - perma...  junior  \n",
       "2   new power bi developer position in with one of...  senior  \n",
       "3   exciting full stack senior bi developer role -...  senior  \n",
       "4   you have experience with client projects and i...  junior  \n",
       "5   as a data engineer (cloud, financial, data inf...  junior  \n",
       "6   we are looking for a data engineer to join our...  junior  \n",
       "7   a bit about the role and what you'll do... be ...  junior  \n",
       "8   mission and main objectives  to strengthen the...  junior  \n",
       "9   the economist is seeking a data scientist to j...  senior  \n",
       "10  are you passionate about transforming and shap...  senior  \n",
       "11  as a data scientist, you’ll use global data fr...  junior  \n",
       "12  our projects include extracting, analysing and...  junior  \n",
       "13  our ‘erp analytics’ capability sits within tec...  senior  \n",
       "14  role be emea infor xa subject-matter expert, c...  senior  \n",
       "15  erp business analyst – transformation program ...  senior  \n",
       "16  we are looking for an ambitious person with a ...  senior  \n",
       "17  currently we are looking to recruit an ambitio...  senior  \n",
       "18  we are building a world-class team to help dri...  junior  \n",
       "19  as it junior recruiter for emea you will proac...  junior  \n",
       "20  we’re looking for an experienced and motivated...  junior  \n",
       "21  this leading electronic trading broker has bee...  senior  \n",
       "22  i am working exclusively with a global trading...  senior  \n",
       "23  reuters is seeking an experienced front-end so...  junior  "
      ]
     },
     "execution_count": 45,
     "metadata": {},
     "output_type": "execute_result"
    }
   ],
   "source": [
    "job_data"
   ]
  },
  {
   "cell_type": "code",
   "execution_count": 46,
   "metadata": {},
   "outputs": [],
   "source": [
    "# Concatenate all vectors into a panda serie -> simplify the work \n",
    "concate_dfs = pd.concat([resume_data.title_cv, resume_data.experience_cv, resume_data.skills_cv,\n",
    "          job_data.title_job, job_data.description_job], \n",
    "          keys=['title_cv', 'experience_cv', 'skills_cv', 'title_job', 'description_job'])"
   ]
  },
  {
   "cell_type": "code",
   "execution_count": 47,
   "metadata": {},
   "outputs": [],
   "source": [
    "# Calculate the occurence of each tearm \n",
    "word_vec = concate_dfs.apply(str.split).apply(pd.value_counts).fillna(0)"
   ]
  },
  {
   "cell_type": "code",
   "execution_count": 17,
   "metadata": {},
   "outputs": [],
   "source": [
    "# Calculate the term frequency \n",
    "tf = word_vec.divide(np.sum(word_vec, axis=1), axis=0)"
   ]
  },
  {
   "cell_type": "code",
   "execution_count": 18,
   "metadata": {},
   "outputs": [],
   "source": [
    "# Calculate idf\n",
    "idf = np.log10(len(tf) / word_vec[word_vec > 0].count()) "
   ]
  },
  {
   "cell_type": "code",
   "execution_count": 193,
   "metadata": {},
   "outputs": [
    {
     "data": {
      "text/html": [
       "<div>\n",
       "<style scoped>\n",
       "    .dataframe tbody tr th:only-of-type {\n",
       "        vertical-align: middle;\n",
       "    }\n",
       "\n",
       "    .dataframe tbody tr th {\n",
       "        vertical-align: top;\n",
       "    }\n",
       "\n",
       "    .dataframe thead th {\n",
       "        text-align: right;\n",
       "    }\n",
       "</style>\n",
       "<table border=\"1\" class=\"dataframe\">\n",
       "  <thead>\n",
       "    <tr style=\"text-align: right;\">\n",
       "      <th></th>\n",
       "      <th></th>\n",
       "      <th>analyst</th>\n",
       "      <th>intelligence</th>\n",
       "      <th>business</th>\n",
       "      <th>senior</th>\n",
       "      <th>developer</th>\n",
       "      <th>architect</th>\n",
       "      <th>data</th>\n",
       "      <th>engineer</th>\n",
       "      <th>big</th>\n",
       "      <th>devops</th>\n",
       "      <th>...</th>\n",
       "      <th>high-performers.</th>\n",
       "      <th>swarm,</th>\n",
       "      <th>clojure/clojurescript</th>\n",
       "      <th>trade-offs</th>\n",
       "      <th>released</th>\n",
       "      <th>workflows.</th>\n",
       "      <th>refactoring</th>\n",
       "      <th>understands</th>\n",
       "      <th>estimate</th>\n",
       "      <th>back-end</th>\n",
       "    </tr>\n",
       "  </thead>\n",
       "  <tbody>\n",
       "    <tr>\n",
       "      <th rowspan=\"5\" valign=\"top\">title_cv</th>\n",
       "      <th>0</th>\n",
       "      <td>0.259107</td>\n",
       "      <td>0.206394</td>\n",
       "      <td>0.087114</td>\n",
       "      <td>0.135395</td>\n",
       "      <td>0.000000</td>\n",
       "      <td>0.000000</td>\n",
       "      <td>0.000000</td>\n",
       "      <td>0.000000</td>\n",
       "      <td>0.000000</td>\n",
       "      <td>0.0</td>\n",
       "      <td>...</td>\n",
       "      <td>0.0</td>\n",
       "      <td>0.0</td>\n",
       "      <td>0.0</td>\n",
       "      <td>0.0</td>\n",
       "      <td>0.0</td>\n",
       "      <td>0.0</td>\n",
       "      <td>0.0</td>\n",
       "      <td>0.0</td>\n",
       "      <td>0.0</td>\n",
       "      <td>0.0</td>\n",
       "    </tr>\n",
       "    <tr>\n",
       "      <th>1</th>\n",
       "      <td>0.000000</td>\n",
       "      <td>0.206394</td>\n",
       "      <td>0.087114</td>\n",
       "      <td>0.135395</td>\n",
       "      <td>0.206394</td>\n",
       "      <td>0.000000</td>\n",
       "      <td>0.000000</td>\n",
       "      <td>0.000000</td>\n",
       "      <td>0.000000</td>\n",
       "      <td>0.0</td>\n",
       "      <td>...</td>\n",
       "      <td>0.0</td>\n",
       "      <td>0.0</td>\n",
       "      <td>0.0</td>\n",
       "      <td>0.0</td>\n",
       "      <td>0.0</td>\n",
       "      <td>0.0</td>\n",
       "      <td>0.0</td>\n",
       "      <td>0.0</td>\n",
       "      <td>0.0</td>\n",
       "      <td>0.0</td>\n",
       "    </tr>\n",
       "    <tr>\n",
       "      <th>2</th>\n",
       "      <td>0.000000</td>\n",
       "      <td>0.275192</td>\n",
       "      <td>0.116152</td>\n",
       "      <td>0.000000</td>\n",
       "      <td>0.000000</td>\n",
       "      <td>0.546163</td>\n",
       "      <td>0.000000</td>\n",
       "      <td>0.000000</td>\n",
       "      <td>0.000000</td>\n",
       "      <td>0.0</td>\n",
       "      <td>...</td>\n",
       "      <td>0.0</td>\n",
       "      <td>0.0</td>\n",
       "      <td>0.0</td>\n",
       "      <td>0.0</td>\n",
       "      <td>0.0</td>\n",
       "      <td>0.0</td>\n",
       "      <td>0.0</td>\n",
       "      <td>0.0</td>\n",
       "      <td>0.0</td>\n",
       "      <td>0.0</td>\n",
       "    </tr>\n",
       "    <tr>\n",
       "      <th>3</th>\n",
       "      <td>0.000000</td>\n",
       "      <td>0.000000</td>\n",
       "      <td>0.000000</td>\n",
       "      <td>0.000000</td>\n",
       "      <td>0.000000</td>\n",
       "      <td>0.000000</td>\n",
       "      <td>0.111758</td>\n",
       "      <td>0.354535</td>\n",
       "      <td>0.000000</td>\n",
       "      <td>0.0</td>\n",
       "      <td>...</td>\n",
       "      <td>0.0</td>\n",
       "      <td>0.0</td>\n",
       "      <td>0.0</td>\n",
       "      <td>0.0</td>\n",
       "      <td>0.0</td>\n",
       "      <td>0.0</td>\n",
       "      <td>0.0</td>\n",
       "      <td>0.0</td>\n",
       "      <td>0.0</td>\n",
       "      <td>0.0</td>\n",
       "    </tr>\n",
       "    <tr>\n",
       "      <th>4</th>\n",
       "      <td>0.000000</td>\n",
       "      <td>0.000000</td>\n",
       "      <td>0.000000</td>\n",
       "      <td>0.135395</td>\n",
       "      <td>0.000000</td>\n",
       "      <td>0.000000</td>\n",
       "      <td>0.055879</td>\n",
       "      <td>0.177268</td>\n",
       "      <td>0.198348</td>\n",
       "      <td>0.0</td>\n",
       "      <td>...</td>\n",
       "      <td>0.0</td>\n",
       "      <td>0.0</td>\n",
       "      <td>0.0</td>\n",
       "      <td>0.0</td>\n",
       "      <td>0.0</td>\n",
       "      <td>0.0</td>\n",
       "      <td>0.0</td>\n",
       "      <td>0.0</td>\n",
       "      <td>0.0</td>\n",
       "      <td>0.0</td>\n",
       "    </tr>\n",
       "  </tbody>\n",
       "</table>\n",
       "<p>5 rows × 3148 columns</p>\n",
       "</div>"
      ],
      "text/plain": [
       "             analyst  intelligence  business    senior  developer  architect  \\\n",
       "title_cv 0  0.259107      0.206394  0.087114  0.135395   0.000000   0.000000   \n",
       "         1  0.000000      0.206394  0.087114  0.135395   0.206394   0.000000   \n",
       "         2  0.000000      0.275192  0.116152  0.000000   0.000000   0.546163   \n",
       "         3  0.000000      0.000000  0.000000  0.000000   0.000000   0.000000   \n",
       "         4  0.000000      0.000000  0.000000  0.135395   0.000000   0.000000   \n",
       "\n",
       "                data  engineer       big  devops  ...  high-performers.  \\\n",
       "title_cv 0  0.000000  0.000000  0.000000     0.0  ...               0.0   \n",
       "         1  0.000000  0.000000  0.000000     0.0  ...               0.0   \n",
       "         2  0.000000  0.000000  0.000000     0.0  ...               0.0   \n",
       "         3  0.111758  0.354535  0.000000     0.0  ...               0.0   \n",
       "         4  0.055879  0.177268  0.198348     0.0  ...               0.0   \n",
       "\n",
       "            swarm,  clojure/clojurescript  trade-offs  released  workflows.  \\\n",
       "title_cv 0     0.0                    0.0         0.0       0.0         0.0   \n",
       "         1     0.0                    0.0         0.0       0.0         0.0   \n",
       "         2     0.0                    0.0         0.0       0.0         0.0   \n",
       "         3     0.0                    0.0         0.0       0.0         0.0   \n",
       "         4     0.0                    0.0         0.0       0.0         0.0   \n",
       "\n",
       "            refactoring  understands  estimate  back-end  \n",
       "title_cv 0          0.0          0.0       0.0       0.0  \n",
       "         1          0.0          0.0       0.0       0.0  \n",
       "         2          0.0          0.0       0.0       0.0  \n",
       "         3          0.0          0.0       0.0       0.0  \n",
       "         4          0.0          0.0       0.0       0.0  \n",
       "\n",
       "[5 rows x 3148 columns]"
      ]
     },
     "execution_count": 193,
     "metadata": {},
     "output_type": "execute_result"
    }
   ],
   "source": [
    "# Finally the beautiful tf_idf table\n",
    "tfidf = np.multiply(tf, idf.to_frame().T)\n",
    "tfidf.head()"
   ]
  },
  {
   "cell_type": "code",
   "execution_count": 20,
   "metadata": {},
   "outputs": [],
   "source": [
    "from sklearn.metrics.pairwise import cosine_similarity"
   ]
  },
  {
   "cell_type": "markdown",
   "metadata": {},
   "source": [
    "## Job_title vs CV_title"
   ]
  },
  {
   "cell_type": "code",
   "execution_count": 21,
   "metadata": {},
   "outputs": [],
   "source": [
    "resume_tfidf_title = tfidf.loc['title_cv'] \n",
    "job_tfidf_title    = tfidf.loc['title_job'] "
   ]
  },
  {
   "cell_type": "code",
   "execution_count": 22,
   "metadata": {},
   "outputs": [],
   "source": [
    "similarities_title = cosine_similarity(pd.concat([resume_tfidf_title, job_tfidf_title]).reset_index(drop=True))"
   ]
  },
  {
   "cell_type": "code",
   "execution_count": 23,
   "metadata": {},
   "outputs": [
    {
     "data": {
      "text/plain": [
       "Text(114.0, 0.5, 'CV index')"
      ]
     },
     "execution_count": 23,
     "metadata": {},
     "output_type": "execute_result"
    },
    {
     "data": {
      "image/png": "[encoded data removed]",
      "text/plain": [
       "<Figure size 1080x720 with 2 Axes>"
      ]
     },
     "metadata": {
      "needs_background": "light"
     },
     "output_type": "display_data"
    }
   ],
   "source": [
    "plt.figure(figsize =(15,10))\n",
    "plt.title('Similarity CV(title) ~ Job(title)')\n",
    "sns.heatmap(data=similarities_title[0:13,13:],cmap='RdYlGn')\n",
    "plt.xlabel('Job index')\n",
    "plt.ylabel('CV index')"
   ]
  },
  {
   "cell_type": "markdown",
   "metadata": {},
   "source": [
    "As it can be seen the titles of offers and titles of resumes have an impact in the recmmendation system we're trying to build, but this is not all we can do. We can take advantage of the experiences a candidate has and the description of the offers, those two features are more important than the simple title"
   ]
  },
  {
   "cell_type": "markdown",
   "metadata": {},
   "source": [
    "## Experiences vs Description"
   ]
  },
  {
   "cell_type": "markdown",
   "metadata": {},
   "source": [
    "### TF_IDF"
   ]
  },
  {
   "cell_type": "code",
   "execution_count": 54,
   "metadata": {},
   "outputs": [],
   "source": [
    "resume_tfidf_experience = tfidf.loc['experience_cv'] \n",
    "resume_tfidf_experience_skills = tfidf.loc['experience_cv'] + tfidf.loc['skills_cv']\n",
    "job_tfidf_description    = tfidf.loc['description_job'] "
   ]
  },
  {
   "cell_type": "code",
   "execution_count": 55,
   "metadata": {},
   "outputs": [],
   "source": [
    "similarities_text = cosine_similarity(pd.concat([resume_tfidf_experience, job_tfidf_description]).reset_index(drop=True))\n",
    "similarities_text_skills = cosine_similarity(pd.concat([resume_tfidf_experience_skills, job_tfidf_description]).reset_index(drop=True))"
   ]
  },
  {
   "cell_type": "code",
   "execution_count": 69,
   "metadata": {},
   "outputs": [
    {
     "data": {
      "text/plain": [
       "Text(964.9090909090908, 0.5, 'CV index')"
      ]
     },
     "execution_count": 69,
     "metadata": {},
     "output_type": "execute_result"
    },
    {
     "data": {
      "image/png": "[encoded data removed]",
      "text/plain": [
       "<Figure size 1800x1080 with 4 Axes>"
      ]
     },
     "metadata": {
      "needs_background": "light"
     },
     "output_type": "display_data"
    }
   ],
   "source": [
    "fig, axes = plt.subplots(1,2,figsize=[25,15])\n",
    "g0 = sns.heatmap(data=similarities_text[0:13,13:], cmap='RdYlGn', ax = axes[0])\n",
    "g0.set_title('Similarity CV(experience) ~ Job(description)')\n",
    "g0.set_xlabel('Job index')\n",
    "g0.set_ylabel('CV index')\n",
    "\n",
    "g1 = sns.heatmap(data=similarities_text_skills[0:13,13:], cmap='RdYlGn', ax = axes[1])\n",
    "g1.set_title('Similarity CV(experience+Skills) ~ Job(description)')\n",
    "g1.set_xlabel('Job index')\n",
    "g1.set_ylabel('CV index')"
   ]
  },
  {
   "cell_type": "markdown",
   "metadata": {},
   "source": [
    "This graph is more beautiful than the previous one, but unfortunatlly, for a mathematician it means bullsh**. But why ?!!<br>\n",
    "- As far as the description of an experience is long, it will have a better impact on the result (profile 5 and 6 are seniors but they don't match any offer)\n",
    "\n",
    "So instead of using only the frequence of terms, maybe we can use the semantic of sentences "
   ]
  },
  {
   "cell_type": "markdown",
   "metadata": {},
   "source": [
    "## SUM elements"
   ]
  },
  {
   "cell_type": "code",
   "execution_count": 194,
   "metadata": {},
   "outputs": [],
   "source": [
    "resume_tfidf = 0.5*tfidf.loc['title_cv'] + 0*tfidf.loc['skills_cv'] + 3*tfidf.loc['experience_cv']\n",
    "job_tfidf    = 0.6*tfidf.loc['title_job'] + 3*tfidf.loc['description_job']"
   ]
  },
  {
   "cell_type": "code",
   "execution_count": 195,
   "metadata": {},
   "outputs": [],
   "source": [
    "similarities = cosine_similarity(pd.concat([resume_tfidf, job_tfidf]).reset_index(drop=True))"
   ]
  },
  {
   "cell_type": "code",
   "execution_count": 196,
   "metadata": {},
   "outputs": [
    {
     "data": {
      "text/plain": [
       "Text(114.0, 0.5, 'CV index')"
      ]
     },
     "execution_count": 196,
     "metadata": {},
     "output_type": "execute_result"
    },
    {
     "data": {
      "image/png": "[encoded data removed]",
      "text/plain": [
       "<Figure size 1080x720 with 2 Axes>"
      ]
     },
     "metadata": {
      "needs_background": "light"
     },
     "output_type": "display_data"
    }
   ],
   "source": [
    "plt.figure(figsize =(15,10))\n",
    "plt.title('Similarity CV ~ Job')\n",
    "sns.heatmap(data=similarities[0:13,13:],cmap='RdYlGn')\n",
    "plt.xlabel('Job index')\n",
    "plt.ylabel('CV index')"
   ]
  },
  {
   "cell_type": "code",
   "execution_count": 181,
   "metadata": {},
   "outputs": [
    {
     "name": "stdout",
     "output_type": "stream",
     "text": [
      "The profil 3 is a 'data engineer', the offers 4,5 and 6 are for 'data engineer, data engineer and data engineer'\n",
      "The profil 6 is a 'senior data scientist', the offer 11 for a 'data scientist'\n",
      "The profil 7 is a 'senior data scientist and machine learning engineer', the offer 11 for a 'data scientist'\n",
      "The profil 10 is a 'front end web developer', the offer 22 for a 'senior front end developer'\n"
     ]
    }
   ],
   "source": [
    "print('The profil 3 is a \\'{}\\', the offers 4,5 and 6 are for \\'{}\\''.format(resume_data.title_cv.iloc[3],\n",
    "                                                                     job_data.title_job.iloc[4] +', '+ job_data.title_job.iloc[5] +' and '+ job_data.title_job.iloc[6]))\n",
    "\n",
    "print('The profil 6 is a \\'{}\\', the offer 11 for a \\'{}\\''.format(resume_data.title_cv.iloc[6],\n",
    "                                                                     job_data.title_job.iloc[11]))\n",
    "\n",
    "print('The profil 7 is a \\'{}\\', the offer 11 for a \\'{}\\''.format(resume_data.title_cv.iloc[7],\n",
    "                                                                     job_data.title_job.iloc[11]))\n",
    "\n",
    "print('The profil 10 is a \\'{}\\', the offer 22 for a \\'{}\\''.format(resume_data.title_cv.iloc[10],\n",
    "                                                                     job_data.title_job.iloc[22]))"
   ]
  },
  {
   "cell_type": "markdown",
   "metadata": {},
   "source": [
    "Reliyning on a simple implementation of TF_IDF will not lead to better results, the example above illustrate some good results but we miss a lot of relevant informations"
   ]
  },
  {
   "cell_type": "code",
   "execution_count": 190,
   "metadata": {},
   "outputs": [
    {
     "data": {
      "text/plain": [
       "Text(964.9090909090908, 0.5, 'CV index')"
      ]
     },
     "execution_count": 190,
     "metadata": {},
     "output_type": "execute_result"
    },
    {
     "data": {
      "image/png": "[encoded data removed]",
      "text/plain": [
       "<Figure size 1800x1080 with 8 Axes>"
      ]
     },
     "metadata": {
      "needs_background": "light"
     },
     "output_type": "display_data"
    }
   ],
   "source": [
    "fig, axes = plt.subplots(2,2,figsize=[25,15])\n",
    "g0 = sns.heatmap(data=similarities_text[0:13,13:], cmap='RdYlGn', ax = axes[0][0])\n",
    "g0.set_title('Similarity CV(experience) ~ Job(description)')\n",
    "g0.set_xlabel('Job index')\n",
    "g0.set_ylabel('CV index')\n",
    "\n",
    "g1 = sns.heatmap(data=similarities_text_skills[0:13,13:], cmap='RdYlGn', ax = axes[0][1])\n",
    "g1.set_title('Similarity CV(experience+Skills) ~ Job(description)')\n",
    "g1.set_xlabel('Job index')\n",
    "g1.set_ylabel('CV index')\n",
    "\n",
    "g2 = sns.heatmap(data=similarities_title[0:13,13:],cmap='RdYlGn', ax = axes[1][0])\n",
    "g2.set_title('Similarity CV(title) ~ Job(title)')\n",
    "g2.set_xlabel('Job index')\n",
    "g2.set_ylabel('CV index')\n",
    "\n",
    "g3 = sns.heatmap(data=similarities[0:13,13:],cmap='RdYlGn', ax = axes[1][1])\n",
    "g3.set_title('Similarity CV ~ Job')\n",
    "g3.set_xlabel('Job index')\n",
    "g3.set_ylabel('CV index')"
   ]
  },
  {
   "cell_type": "markdown",
   "metadata": {},
   "source": [
    "# Other Processing"
   ]
  },
  {
   "cell_type": "code",
   "execution_count": 16,
   "metadata": {},
   "outputs": [],
   "source": [
    "def read_cv(file):\n",
    "    with open(file,\"r\", encoding=\"utf8\") as f:\n",
    "        resume = json.load(f)\n",
    "        \n",
    "    title = resume['title']\n",
    "    experience_text = {}\n",
    "    for i,experience in enumerate(resume['experience']):\n",
    "        experience_text[i] = experience['title'] + experience['description']\n",
    "    skills = \" \".join(resume['skills'])\n",
    "    \n",
    "    return (file.lower(), title.lower(), experience_text, skills.lower())"
   ]
  },
  {
   "cell_type": "code",
   "execution_count": 17,
   "metadata": {},
   "outputs": [],
   "source": [
    "import os\n",
    "from os import listdir\n",
    "onlyfiles = [f for f in listdir(DATA_PATH+\"cv/\")]\n",
    "resume = []\n",
    "for file in onlyfiles:\n",
    "    cv = read_cv(DATA_PATH+\"cv/\"+file)\n",
    "    resume.append(cv)\n",
    "    \n",
    "#resume_data = pd.DataFrame(data=data,columns=['name_cv', 'title_cv', 'experience_cv', 'skills_cv'])"
   ]
  },
  {
   "cell_type": "markdown",
   "metadata": {},
   "source": []
  },
  {
   "cell_type": "code",
   "execution_count": 19,
   "metadata": {},
   "outputs": [],
   "source": [
    "def read_job(file):\n",
    "    with open(file,\"r\", encoding=\"utf8\") as f:\n",
    "        job = json.load(f)\n",
    "    \n",
    "    title = job['title']\n",
    "    description = job['description']\n",
    "    \n",
    "    return (file.lower(), title.lower(), description.lower())"
   ]
  },
  {
   "cell_type": "code",
   "execution_count": 20,
   "metadata": {},
   "outputs": [],
   "source": [
    "# redondante \n",
    "import re\n",
    "def clean_data(example):\n",
    "    \n",
    "    spec_chars = '[!*:@#$]'\n",
    "    example = example[0], re.sub(spec_chars, '', example[1]), re.sub(spec_chars, '', example[2])\n",
    "    return example"
   ]
  },
  {
   "cell_type": "code",
   "execution_count": 21,
   "metadata": {},
   "outputs": [],
   "source": [
    "import os\n",
    "from os import listdir\n",
    "onlyfiles = [f for f in listdir(DATA_PATH+\"jobs/\")]\n",
    "jobs = []\n",
    "for file in onlyfiles:\n",
    "\n",
    "    job = read_job(DATA_PATH+\"jobs/\"+file)\n",
    "    jobs.append(clean_data(job))\n",
    "    \n",
    "#job_data = pd.DataFrame(data=data,columns=['name_job', 'title_job', 'description_job'])"
   ]
  },
  {
   "cell_type": "code",
   "execution_count": null,
   "metadata": {},
   "outputs": [],
   "source": []
  },
  {
   "cell_type": "code",
   "execution_count": null,
   "metadata": {},
   "outputs": [],
   "source": []
  },
  {
   "cell_type": "markdown",
   "metadata": {},
   "source": [
    "## Pre-trained model"
   ]
  },
  {
   "cell_type": "markdown",
   "metadata": {},
   "source": [
    "Here we will use the glov pre-trained model, the dimension of the embeddings is 100, due to the memory problems we will use this tiny dimension :("
   ]
  },
  {
   "cell_type": "code",
   "execution_count": 4,
   "metadata": {},
   "outputs": [],
   "source": [
    "import numpy as np\n",
    "def convert_to_binary(embedding_path):\n",
    "    \"\"\"\n",
    "    Here, it takes path to embedding text file provided by glove.\n",
    "    :param embedding_path: takes path of the embedding which is in text format or any format other than binary.\n",
    "    :return: a binary file of the given embeddings which takes a lot less time to load.\n",
    "    \"\"\"\n",
    "    f = open(embedding_path + \".txt\", 'r', encoding='utf-8')\n",
    "    wv = []\n",
    "    with open(embedding_path + \".vocab\", \"w\", encoding='utf-8') as vocab_write:\n",
    "        count = 0\n",
    "        for line in f:\n",
    "            if count == 0:\n",
    "                pass\n",
    "            else:\n",
    "                splitlines = line.split()\n",
    "                vocab_write.write(splitlines[0].strip())\n",
    "                vocab_write.write(\"\\n\")\n",
    "                wv.append([float(val) for val in splitlines[1:]])\n",
    "            count += 1\n",
    "    np.save(embedding_path + \".npy\", np.array(wv))"
   ]
  },
  {
   "cell_type": "code",
   "execution_count": 5,
   "metadata": {},
   "outputs": [],
   "source": [
    "def load_embeddings_binary(embeddings_path):\n",
    "    \"\"\"\n",
    "    It loads embedding provided by glove which is saved as binary file. Loading of this model is\n",
    "    about  second faster than that of loading of txt glove file as model.\n",
    "    :param embeddings_path: path of glove file.\n",
    "    :return: glove model\n",
    "    \"\"\"\n",
    "    print(embeddings_path)\n",
    "    with open('glove.6B/glove.6B.100d.vocab', mode='r', encoding='utf-8') as f_in:\n",
    "        index2word = [line.strip() for line in f_in]\n",
    "    wv = np.load(embeddings_path + '.npy')\n",
    "    model = {}\n",
    "    for i, w in enumerate(index2word):\n",
    "        model[w] = wv[i]\n",
    "    return model"
   ]
  },
  {
   "cell_type": "code",
   "execution_count": 6,
   "metadata": {},
   "outputs": [],
   "source": [
    "def get_w2v(sentence, model):\n",
    "    \"\"\"\n",
    "    :param sentence: inputs a single sentences whose word embedding is to be extracted.\n",
    "    :param model: inputs glove model.\n",
    "    :return: returns numpy array containing word embedding of all words    in input sentence.\n",
    "    \"\"\"\n",
    "    return np.array([model.get(val, np.zeros(100)) for val in sentence.split()], dtype=np.float64)"
   ]
  },
  {
   "cell_type": "code",
   "execution_count": 7,
   "metadata": {},
   "outputs": [],
   "source": [
    "convert_to_binary('glove.6B/glove.6B.100d')"
   ]
  },
  {
   "cell_type": "code",
   "execution_count": 8,
   "metadata": {
    "scrolled": true
   },
   "outputs": [
    {
     "name": "stdout",
     "output_type": "stream",
     "text": [
      "glove.6B/glove.6B.100d\n"
     ]
    }
   ],
   "source": [
    "model = load_embeddings_binary('glove.6B/glove.6B.100d')"
   ]
  },
  {
   "cell_type": "code",
   "execution_count": 120,
   "metadata": {},
   "outputs": [],
   "source": [
    "result = {}\n",
    "for r, pp in enumerate(resume):\n",
    "    res = resume[r]\n",
    "    result[r] = {}\n",
    "    for e, ee in enumerate(res[2]):\n",
    "        experiences = res[2]\n",
    "        result[r][e] = {}\n",
    "        for j,jj in enumerate(jobs):\n",
    "            exper = np.sum(get_w2v(experiences[e], model),axis=0)\n",
    "            jobss = np.sum(get_w2v(jobs[j][1], model), axis=0)\n",
    "            dist = 1 - spatial.distance.cosine(exper, jobss)\n",
    "            result[r][e][j] = dist*10 - int(dist*10)\n",
    "            \n",
    "data_stats = pd.DataFrame(data = result)"
   ]
  },
  {
   "cell_type": "code",
   "execution_count": 121,
   "metadata": {},
   "outputs": [],
   "source": [
    "def plot_profiles(dataframe):\n",
    "    shpe = dataframe.shape\n",
    "    fig, axes = plt.subplots(shpe[1],shpe[0],figsize=[15,60])\n",
    "    for i in range(shpe[1]):\n",
    "        for j in range(shpe[0]):\n",
    "            data = dataframe.iloc[j].loc[i]\n",
    "            if data is not np.nan:\n",
    "                sns.barplot(x = list(data.keys()), y = list(data.values()), ax = axes[i][j])\n",
    "                axes[i][j].set_title(resume[i][0])\n",
    "            else:\n",
    "                pass\n",
    "    return fig"
   ]
  },
  {
   "cell_type": "code",
   "execution_count": 122,
   "metadata": {
    "scrolled": false
   },
   "outputs": [
    {
     "data": {
      "image/png": "[encoded data removed]",
      "text/plain": [
       "<Figure size 1080x4320 with 39 Axes>"
      ]
     },
     "metadata": {
      "needs_background": "light"
     },
     "output_type": "display_data"
    }
   ],
   "source": [
    "fig = plot_profiles(data_stats)"
   ]
  },
  {
   "cell_type": "code",
   "execution_count": 116,
   "metadata": {},
   "outputs": [],
   "source": [
    "fig.savefig('yey.png')"
   ]
  },
  {
   "cell_type": "code",
   "execution_count": null,
   "metadata": {},
   "outputs": [],
   "source": []
  },
  {
   "cell_type": "code",
   "execution_count": null,
   "metadata": {},
   "outputs": [],
   "source": []
  },
  {
   "cell_type": "code",
   "execution_count": null,
   "metadata": {},
   "outputs": [],
   "source": []
  },
  {
   "cell_type": "code",
   "execution_count": null,
   "metadata": {},
   "outputs": [],
   "source": []
  },
  {
   "cell_type": "code",
   "execution_count": 49,
   "metadata": {},
   "outputs": [],
   "source": [
    "resume_pre = word_vec.loc['title_cv'] + word_vec.loc['skills_cv'] + word_vec.loc['experience_cv']"
   ]
  },
  {
   "cell_type": "code",
   "execution_count": 50,
   "metadata": {},
   "outputs": [
    {
     "data": {
      "text/html": [
       "<div>\n",
       "<style scoped>\n",
       "    .dataframe tbody tr th:only-of-type {\n",
       "        vertical-align: middle;\n",
       "    }\n",
       "\n",
       "    .dataframe tbody tr th {\n",
       "        vertical-align: top;\n",
       "    }\n",
       "\n",
       "    .dataframe thead th {\n",
       "        text-align: right;\n",
       "    }\n",
       "</style>\n",
       "<table border=\"1\" class=\"dataframe\">\n",
       "  <thead>\n",
       "    <tr style=\"text-align: right;\">\n",
       "      <th></th>\n",
       "      <th>intelligence</th>\n",
       "      <th>business</th>\n",
       "      <th>senior</th>\n",
       "      <th>analyst</th>\n",
       "      <th>developer</th>\n",
       "      <th>architect</th>\n",
       "      <th>engineer</th>\n",
       "      <th>data</th>\n",
       "      <th>big</th>\n",
       "      <th>&amp;</th>\n",
       "      <th>...</th>\n",
       "      <th>reviews</th>\n",
       "      <th>bsc</th>\n",
       "      <th>understands</th>\n",
       "      <th>peers</th>\n",
       "      <th>competencies</th>\n",
       "      <th>re-implement</th>\n",
       "      <th>recently</th>\n",
       "      <th>steaming</th>\n",
       "      <th>(please</th>\n",
       "      <th>modular</th>\n",
       "    </tr>\n",
       "  </thead>\n",
       "  <tbody>\n",
       "    <tr>\n",
       "      <th>0</th>\n",
       "      <td>5.0</td>\n",
       "      <td>10.0</td>\n",
       "      <td>2.0</td>\n",
       "      <td>1.0</td>\n",
       "      <td>0.0</td>\n",
       "      <td>0.0</td>\n",
       "      <td>0.0</td>\n",
       "      <td>0.0</td>\n",
       "      <td>0.0</td>\n",
       "      <td>0.0</td>\n",
       "      <td>...</td>\n",
       "      <td>0.0</td>\n",
       "      <td>0.0</td>\n",
       "      <td>0.0</td>\n",
       "      <td>0.0</td>\n",
       "      <td>0.0</td>\n",
       "      <td>0.0</td>\n",
       "      <td>0.0</td>\n",
       "      <td>0.0</td>\n",
       "      <td>0.0</td>\n",
       "      <td>0.0</td>\n",
       "    </tr>\n",
       "    <tr>\n",
       "      <th>1</th>\n",
       "      <td>4.0</td>\n",
       "      <td>4.0</td>\n",
       "      <td>3.0</td>\n",
       "      <td>0.0</td>\n",
       "      <td>1.0</td>\n",
       "      <td>0.0</td>\n",
       "      <td>0.0</td>\n",
       "      <td>10.0</td>\n",
       "      <td>0.0</td>\n",
       "      <td>2.0</td>\n",
       "      <td>...</td>\n",
       "      <td>0.0</td>\n",
       "      <td>0.0</td>\n",
       "      <td>0.0</td>\n",
       "      <td>0.0</td>\n",
       "      <td>0.0</td>\n",
       "      <td>0.0</td>\n",
       "      <td>0.0</td>\n",
       "      <td>0.0</td>\n",
       "      <td>0.0</td>\n",
       "      <td>0.0</td>\n",
       "    </tr>\n",
       "    <tr>\n",
       "      <th>2</th>\n",
       "      <td>6.0</td>\n",
       "      <td>8.0</td>\n",
       "      <td>0.0</td>\n",
       "      <td>0.0</td>\n",
       "      <td>0.0</td>\n",
       "      <td>1.0</td>\n",
       "      <td>0.0</td>\n",
       "      <td>2.0</td>\n",
       "      <td>0.0</td>\n",
       "      <td>1.0</td>\n",
       "      <td>...</td>\n",
       "      <td>0.0</td>\n",
       "      <td>0.0</td>\n",
       "      <td>0.0</td>\n",
       "      <td>0.0</td>\n",
       "      <td>0.0</td>\n",
       "      <td>0.0</td>\n",
       "      <td>0.0</td>\n",
       "      <td>0.0</td>\n",
       "      <td>0.0</td>\n",
       "      <td>0.0</td>\n",
       "    </tr>\n",
       "    <tr>\n",
       "      <th>3</th>\n",
       "      <td>0.0</td>\n",
       "      <td>1.0</td>\n",
       "      <td>0.0</td>\n",
       "      <td>0.0</td>\n",
       "      <td>1.0</td>\n",
       "      <td>0.0</td>\n",
       "      <td>2.0</td>\n",
       "      <td>7.0</td>\n",
       "      <td>2.0</td>\n",
       "      <td>2.0</td>\n",
       "      <td>...</td>\n",
       "      <td>0.0</td>\n",
       "      <td>0.0</td>\n",
       "      <td>0.0</td>\n",
       "      <td>0.0</td>\n",
       "      <td>0.0</td>\n",
       "      <td>0.0</td>\n",
       "      <td>0.0</td>\n",
       "      <td>0.0</td>\n",
       "      <td>0.0</td>\n",
       "      <td>0.0</td>\n",
       "    </tr>\n",
       "    <tr>\n",
       "      <th>4</th>\n",
       "      <td>0.0</td>\n",
       "      <td>0.0</td>\n",
       "      <td>1.0</td>\n",
       "      <td>0.0</td>\n",
       "      <td>0.0</td>\n",
       "      <td>0.0</td>\n",
       "      <td>1.0</td>\n",
       "      <td>11.0</td>\n",
       "      <td>5.0</td>\n",
       "      <td>0.0</td>\n",
       "      <td>...</td>\n",
       "      <td>0.0</td>\n",
       "      <td>0.0</td>\n",
       "      <td>0.0</td>\n",
       "      <td>0.0</td>\n",
       "      <td>0.0</td>\n",
       "      <td>0.0</td>\n",
       "      <td>0.0</td>\n",
       "      <td>0.0</td>\n",
       "      <td>0.0</td>\n",
       "      <td>0.0</td>\n",
       "    </tr>\n",
       "  </tbody>\n",
       "</table>\n",
       "<p>5 rows × 3148 columns</p>\n",
       "</div>"
      ],
      "text/plain": [
       "   intelligence  business  senior  analyst  developer  architect  engineer  \\\n",
       "0           5.0      10.0     2.0      1.0        0.0        0.0       0.0   \n",
       "1           4.0       4.0     3.0      0.0        1.0        0.0       0.0   \n",
       "2           6.0       8.0     0.0      0.0        0.0        1.0       0.0   \n",
       "3           0.0       1.0     0.0      0.0        1.0        0.0       2.0   \n",
       "4           0.0       0.0     1.0      0.0        0.0        0.0       1.0   \n",
       "\n",
       "   data  big    &  ...  reviews  bsc  understands  peers  competencies  \\\n",
       "0   0.0  0.0  0.0  ...      0.0  0.0          0.0    0.0           0.0   \n",
       "1  10.0  0.0  2.0  ...      0.0  0.0          0.0    0.0           0.0   \n",
       "2   2.0  0.0  1.0  ...      0.0  0.0          0.0    0.0           0.0   \n",
       "3   7.0  2.0  2.0  ...      0.0  0.0          0.0    0.0           0.0   \n",
       "4  11.0  5.0  0.0  ...      0.0  0.0          0.0    0.0           0.0   \n",
       "\n",
       "   re-implement  recently  steaming  (please  modular  \n",
       "0           0.0       0.0       0.0      0.0      0.0  \n",
       "1           0.0       0.0       0.0      0.0      0.0  \n",
       "2           0.0       0.0       0.0      0.0      0.0  \n",
       "3           0.0       0.0       0.0      0.0      0.0  \n",
       "4           0.0       0.0       0.0      0.0      0.0  \n",
       "\n",
       "[5 rows x 3148 columns]"
      ]
     },
     "execution_count": 50,
     "metadata": {},
     "output_type": "execute_result"
    }
   ],
   "source": [
    "resume_pre.head()"
   ]
  },
  {
   "cell_type": "markdown",
   "metadata": {},
   "source": [
    "# Draft"
   ]
  },
  {
   "cell_type": "code",
   "execution_count": 48,
   "metadata": {},
   "outputs": [],
   "source": [
    "vects_resume = {}\n",
    "for experience in resume[0][2]:\n",
    "    vects_resume[experience] = np.sum(get_w2v(resume[0][2][experience], model), axis=0)"
   ]
  },
  {
   "cell_type": "code",
   "execution_count": 51,
   "metadata": {},
   "outputs": [
    {
     "data": {
      "text/plain": [
       "\"this role is perfect for a data analysis and business insights driven individual with a good understanding of key marketing disciplines in order to bring our approach to business intelligence to the next level and help the marketing team to execute holistic annual marketing plans that integrate all marketing mix elements for hult’s graduate and undergraduate programs. a good all-round knowledge and understanding of email, ppc, social, events, direct marketing, and graduate education is essential. in this role, you will play a leadership role managing a business intelligence analyst and a data specialist. you will report directly to the chief marketing officer. you will be responsible for providing key business insights and analytical solutions to the leadership team, managing dashboard developments and data visualizations, as well as defining and implementing the business intelligence strategies for the enrollment and marketing teams. it is important that you are passionate about data quality and integrity. you will work with a number of stakeholders ranging from marketing and sales offices around the world as well as external providers and suppliers so you must have good communication skills to work with other disciplines in the wider organization. responsibilities team development manage and coach a team of 2-3 members  guide the business intelligence (bi) team on cross-functional development with other teams participate in strategic and tactical planning discussions on a global level develop models used for budget planning and target settings implement advanced analytic techniques to answer key strategic business questions partner with leadership and cross functional stakeholders to understand their business questions and objectives, then develop intuitive visualizations and dashboards in salesforce, tableau or other bi platforms that provide them with meaningful, timely, and actionable insights and solutions. facilitate communication upward and across project teams develop bi reports on key business kpis on a weekly basis regularly monitor data across our architecture, identify issues and problem solve. determine, suggest and implement efficient data working practices via automations, updated templates, etc. ensure gdpr rules and guidelines for data protection are observed by the team and enrollment teams. manage and oversee the relationship with external suppliers. work closely with the technical team to deliver the school's long-term salesforce cloud ambitions identify opportunities for feature enhancements with salesforce, marketing cloud and tableau. who are we looking for?your qualifications/experience bachelor degree required master of science in business analytics/data analytics preferred 5+ years of relevant experience in data analytics, business intelligence or business analytics (work experience within higher education sector a plus) experience managing a team& general understanding of marketing strong experience with salesforce and marketing cloud is a must. advanced knowledge of excel is a must. experience with tableau products (tableau online & visualization). development and implementation experience is a plus experience with data visualizations best practice and other visualization tools. strong understanding of sql and ability to troubleshoot data issues superior written and spoken english skills you should… be highly motivated, flexible and innovative in your approach as a thought leader (with a self-starter, hands-on, can-do attitude) have an excellent interpersonal, communication and presentation skills with a proven ability to develop relationships within an international work environment and inspire others be a fast learner with the strong interest in data analysis - ability to generate relevant business insights insights through data & numbers, be structured, detail oriented, well organized and a multi-tasker while having the passion to think creatively and outside the box be able to work well with a wide range of people from different parts of the business and have the ability and desire to travel globally \""
      ]
     },
     "execution_count": 51,
     "metadata": {},
     "output_type": "execute_result"
    }
   ],
   "source": [
    "jobs[0][2]"
   ]
  },
  {
   "cell_type": "code",
   "execution_count": 52,
   "metadata": {
    "scrolled": true
   },
   "outputs": [],
   "source": [
    "vects_job = {}\n",
    "vects_job[0] = np.sum(get_w2v(jobs[0][2], model), axis=0)"
   ]
  },
  {
   "cell_type": "code",
   "execution_count": 53,
   "metadata": {},
   "outputs": [
    {
     "data": {
      "text/plain": [
       "{0: array([-6.78003344e+01,  8.32862016e+01,  7.81819578e+01, -2.46366783e+01,\n",
       "         7.51128439e+01, -3.62727465e+01, -7.46520863e+01,  1.33470176e+01,\n",
       "        -9.50141642e+01,  7.63521559e+01,  1.83161212e+01, -1.31107066e+02,\n",
       "         1.39985905e+02,  1.34079787e+01,  4.90360015e+01, -9.05124704e+01,\n",
       "         1.25871961e+02,  4.51976288e+01, -1.71431289e+02,  1.08053154e+02,\n",
       "        -1.72051504e+01, -6.48330849e+01,  1.32037764e+02, -7.95537500e-01,\n",
       "        -5.95558790e+00, -8.06339878e+01,  1.21286567e+01, -1.35456615e+02,\n",
       "        -7.17283544e+01, -3.08442180e+01, -1.20729041e+02,  2.62216349e+02,\n",
       "        -1.32846591e+02, -3.73960660e+01,  3.34349333e+01,  1.01204445e+02,\n",
       "         4.64275640e+00,  1.25703468e+02, -5.36205347e+01, -5.92586646e+01,\n",
       "        -1.49664940e+02, -1.43962048e+02,  4.03915800e-01, -1.02578803e+02,\n",
       "        -8.25538340e+01,  1.43511297e+01,  7.41601737e+01, -1.16288672e+02,\n",
       "        -3.94812957e+01, -3.22614427e+02,  1.08009390e+01, -8.44237711e+00,\n",
       "        -4.57722180e+00,  5.04010003e+02,  2.08769221e+01, -1.04920581e+03,\n",
       "         6.86350200e+01, -1.46663909e+02,  7.72426927e+02,  1.75890597e+02,\n",
       "        -7.33992829e+01,  2.82250235e+02, -9.84608386e+01,  1.74191247e+01,\n",
       "         3.07805818e+02, -2.03223459e+01,  1.62804454e+02,  1.17136019e+02,\n",
       "         2.54704259e+02, -5.12354923e+01, -2.04092467e+00, -8.38775820e+01,\n",
       "        -2.27235049e+01, -2.22435365e+02,  7.16572964e+01,  2.15752920e+00,\n",
       "        -8.61084561e+01, -5.60463470e-01, -3.61823775e+02, -6.99092734e+01,\n",
       "         2.99640306e+02,  1.07841926e+02, -1.88437741e+02,  6.01988714e+01,\n",
       "        -6.70853271e+02, -2.16283181e+01,  7.88996899e+01, -4.58025620e+01,\n",
       "        -8.18018167e+01, -1.87727034e+02, -2.37761732e+01, -4.27499580e+00,\n",
       "        -6.03611105e+01, -2.11826620e+00, -1.43667433e+02,  4.45985674e+01,\n",
       "        -1.18464301e+02, -2.29226734e+02,  3.27042152e+02,  1.54571545e+02])}"
      ]
     },
     "execution_count": 53,
     "metadata": {},
     "output_type": "execute_result"
    }
   ],
   "source": [
    "vects_job"
   ]
  },
  {
   "cell_type": "code",
   "execution_count": 29,
   "metadata": {},
   "outputs": [],
   "source": [
    "from scipy import spatial"
   ]
  },
  {
   "cell_type": "code",
   "execution_count": 55,
   "metadata": {},
   "outputs": [
    {
     "name": "stdout",
     "output_type": "stream",
     "text": [
      "0.9786356360667582\n",
      "0.9672042723809033\n"
     ]
    }
   ],
   "source": [
    "for i in vects_resume:\n",
    "    result = 1 - spatial.distance.cosine(vects_resume[i], vects_job[0])\n",
    "    print(result)"
   ]
  },
  {
   "cell_type": "code",
   "execution_count": 62,
   "metadata": {},
   "outputs": [],
   "source": [
    "vects_job = {}\n",
    "vects_job[0] = np.sum(get_w2v(jobs[20][2], model), axis=0)"
   ]
  },
  {
   "cell_type": "code",
   "execution_count": 63,
   "metadata": {
    "scrolled": true
   },
   "outputs": [
    {
     "data": {
      "text/plain": [
       "{0: array([ -76.6243059 ,   62.2773613 ,   33.028623  ,   25.32674316,\n",
       "          65.7219485 ,  -18.3295497 ,  -80.1990869 ,   58.4896605 ,\n",
       "         -54.275172  ,   93.1262763 ,   17.5185787 ,  -86.5599181 ,\n",
       "          79.2836565 ,  -24.0561521 ,    2.3416082 , -105.504818  ,\n",
       "          69.61506   ,   52.9956141 , -109.710509  ,   71.7614732 ,\n",
       "         -27.90815245,  -73.8007147 ,   99.1506518 ,  -37.8638672 ,\n",
       "         -30.94419308,  -51.575075  ,   28.5588675 ,  -55.5177838 ,\n",
       "         -27.4061533 ,  -16.5483252 ,  -77.702886  ,  164.7462372 ,\n",
       "         -80.693701  ,  -19.13748197,   30.020918  ,   58.7796285 ,\n",
       "          35.8710238 ,   54.8319234 ,  -43.621789  ,  -35.1227993 ,\n",
       "        -103.12279285,  -83.4653544 ,   -2.23199629,  -46.3060677 ,\n",
       "         -57.31675196,    4.0034667 ,   17.79800161,  -83.6883659 ,\n",
       "         -23.19196865, -199.845326  ,    3.0558868 ,   -7.81558045,\n",
       "          -6.9217744 ,  352.214062  ,    1.3795976 , -698.943525  ,\n",
       "          57.7694341 , -123.3232011 ,  548.8592932 ,  106.129025  ,\n",
       "         -74.6269211 ,  177.7518465 ,  -69.62117191,   -9.9126114 ,\n",
       "         264.6373863 ,   38.04523251,  107.257555  ,   65.41367532,\n",
       "         161.3254683 ,  -59.9291111 ,    6.51846174,  -57.0865245 ,\n",
       "         -43.90655737, -149.9978137 ,   76.2652964 ,  -22.0100568 ,\n",
       "         -68.74915372,    6.0608075 , -237.98424221,  -30.54414162,\n",
       "         202.1457325 ,   71.7044439 , -105.4005268 ,   34.4445812 ,\n",
       "        -482.102178  ,   56.09823622,   51.525339  ,  -56.8268803 ,\n",
       "         -81.0682273 , -102.1153957 ,  -36.5972689 ,  -21.7064813 ,\n",
       "         -34.9990853 ,   22.58006955,  -77.0074372 ,   28.87916891,\n",
       "         -79.10752553, -172.2564026 ,  222.288835  ,   65.3307066 ])}"
      ]
     },
     "execution_count": 63,
     "metadata": {},
     "output_type": "execute_result"
    }
   ],
   "source": [
    "vects_job"
   ]
  },
  {
   "cell_type": "code",
   "execution_count": 64,
   "metadata": {},
   "outputs": [
    {
     "name": "stdout",
     "output_type": "stream",
     "text": [
      "0.9758349103499658\n",
      "0.955391576223082\n"
     ]
    }
   ],
   "source": [
    "for i in vects_resume:\n",
    "    result = 1 - spatial.distance.cosine(vects_resume[i], vects_job[0])\n",
    "    print(result)"
   ]
  },
  {
   "cell_type": "code",
   "execution_count": 94,
   "metadata": {},
   "outputs": [],
   "source": [
    "vec_resume_job = {}\n",
    "for p, profile in enumerate(resume):\n",
    "    experiences = {}\n",
    "    for e in profile[2]:\n",
    "        for j, job in enumerate(jobs):\n",
    "            exp_vec = np.sum(get_w2v(profile[2][e], model), axis=0)\n",
    "            job_vec = np.sum(get_w2v(job[2], model), axis=0)\n",
    "            experiences[e] = (j, 1 - spatial.distance.cosine(exp_vec, job_vec))\n",
    "            \n",
    "    vec_resume_job[p] = (profile[0], experiences)"
   ]
  },
  {
   "cell_type": "code",
   "execution_count": 31,
   "metadata": {},
   "outputs": [
    {
     "name": "stdout",
     "output_type": "stream",
     "text": [
      "0\n",
      "1\n",
      "2\n",
      "3\n",
      "4\n",
      "5\n",
      "6\n",
      "7\n",
      "8\n",
      "9\n",
      "10\n",
      "11\n",
      "12\n"
     ]
    }
   ],
   "source": [
    "result = {}\n",
    "for r, pp in enumerate(resume):\n",
    "    print(r)\n",
    "    res = resume[r]\n",
    "    result[r] = {}\n",
    "    for e, ee in enumerate(res[2]):\n",
    "        experiences = res[2]\n",
    "        result[r][e] = {}\n",
    "        for j,jj in enumerate(jobs):\n",
    "            exper = np.sum(get_w2v(experiences[e], model),axis=0)\n",
    "            jobss = np.sum(get_w2v(jobs[j][1], model), axis=0)\n",
    "            result[r][e][j] = 1 - spatial.distance.cosine(exper, jobss)\n"
   ]
  },
  {
   "cell_type": "code",
   "execution_count": 32,
   "metadata": {},
   "outputs": [
    {
     "data": {
      "text/plain": [
       "{0: {0: {0: 0.7380313947636018,\n",
       "   1: 0.639040311472416,\n",
       "   2: 0.639040311472416,\n",
       "   3: 0.499952271492082,\n",
       "   4: 0.6861236654976289,\n",
       "   5: 0.6861236654976289,\n",
       "   6: 0.6861236654976289,\n",
       "   7: 0.7017526337659531,\n",
       "   8: 0.7195674271916342,\n",
       "   9: 0.7801535555171278,\n",
       "   10: 0.7195674271916342,\n",
       "   11: 0.6344062474485054,\n",
       "   12: 0.46452063993502246,\n",
       "   13: 0.5171861795604592,\n",
       "   14: 0.6626030308227244,\n",
       "   15: 0.5605255432543689,\n",
       "   16: 0.6090246088287888,\n",
       "   17: 0.6956830713859925,\n",
       "   18: 0.517298041667366,\n",
       "   19: 0.70243677051535,\n",
       "   20: 0.7999851723730553,\n",
       "   21: 0.7331374087081314,\n",
       "   22: 0.7963224274107312,\n",
       "   23: 0.49434511770363454},\n",
       "  1: {0: 0.7374886384264616,\n",
       "   1: 0.6393984939270011,\n",
       "   2: 0.6393984939270011,\n",
       "   3: 0.49862953234182394,\n",
       "   4: 0.6738493405063916,\n",
       "   5: 0.6738493405063916,\n",
       "   6: 0.6738493405063916,\n",
       "   7: 0.6802124503100313,\n",
       "   8: 0.7070243575266552,\n",
       "   9: 0.7680709796656036,\n",
       "   10: 0.7070243575266552,\n",
       "   11: 0.6234147410573991,\n",
       "   12: 0.46124512567911324,\n",
       "   13: 0.5168621336946084,\n",
       "   14: 0.6541695076193307,\n",
       "   15: 0.5583961800202317,\n",
       "   16: 0.5902976593804284,\n",
       "   17: 0.6913303493139112,\n",
       "   18: 0.4929635316457235,\n",
       "   19: 0.7173674339611064,\n",
       "   20: 0.8018659267413021,\n",
       "   21: 0.7288242177692504,\n",
       "   22: 0.8146308758982083,\n",
       "   23: 0.4900131488826477}},\n",
       " 1: {0: {0: 0.7019558854863002,\n",
       "   1: 0.6196085385338588,\n",
       "   2: 0.6196085385338588,\n",
       "   3: 0.4634220260105111,\n",
       "   4: 0.6644546712784856,\n",
       "   5: 0.6644546712784856,\n",
       "   6: 0.6644546712784856,\n",
       "   7: 0.6678049133962923,\n",
       "   8: 0.6978787495435149,\n",
       "   9: 0.7492840692274632,\n",
       "   10: 0.6978787495435149,\n",
       "   11: 0.6196122684220656,\n",
       "   12: 0.4184075703456879,\n",
       "   13: 0.46220531689756816,\n",
       "   14: 0.6121503826404252,\n",
       "   15: 0.5065425152043683,\n",
       "   16: 0.5545376394936274,\n",
       "   17: 0.6638619289568223,\n",
       "   18: 0.45911032475802704,\n",
       "   19: 0.7171146775111237,\n",
       "   20: 0.7731961076491207,\n",
       "   21: 0.7057143740402101,\n",
       "   22: 0.8002301788745595,\n",
       "   23: 0.4634040796305653},\n",
       "  1: {0: 0.7437184270116837,\n",
       "   1: 0.6223720292390601,\n",
       "   2: 0.6223720292390601,\n",
       "   3: 0.4726178170744755,\n",
       "   4: 0.6988063708032023,\n",
       "   5: 0.6988063708032023,\n",
       "   6: 0.6988063708032023,\n",
       "   7: 0.7109976043850175,\n",
       "   8: 0.7238277617916841,\n",
       "   9: 0.7832456995036934,\n",
       "   10: 0.7238277617916841,\n",
       "   11: 0.6453536811973684,\n",
       "   12: 0.4524135780450299,\n",
       "   13: 0.4978219899892765,\n",
       "   14: 0.6455840743958317,\n",
       "   15: 0.5388397254962995,\n",
       "   16: 0.6055152643011176,\n",
       "   17: 0.7027756270303319,\n",
       "   18: 0.5121150308786961,\n",
       "   19: 0.7273355721005553,\n",
       "   20: 0.8090483798926648,\n",
       "   21: 0.7387419502608108,\n",
       "   22: 0.8171854166398547,\n",
       "   23: 0.4952739924774552}},\n",
       " 2: {0: {0: 0.7399287815256737,\n",
       "   1: 0.6003290801138464,\n",
       "   2: 0.6003290801138464,\n",
       "   3: 0.4676650776594182,\n",
       "   4: 0.7014037535407041,\n",
       "   5: 0.7014037535407041,\n",
       "   6: 0.7014037535407041,\n",
       "   7: 0.7125225847367428,\n",
       "   8: 0.7298118945317271,\n",
       "   9: 0.7916163613076745,\n",
       "   10: 0.7298118945317271,\n",
       "   11: 0.6355885155144545,\n",
       "   12: 0.4862135511369048,\n",
       "   13: 0.5340845391629262,\n",
       "   14: 0.6527450097798613,\n",
       "   15: 0.5342397738313837,\n",
       "   16: 0.6384279639009046,\n",
       "   17: 0.7163781183455136,\n",
       "   18: 0.5561268880766116,\n",
       "   19: 0.7186216699268316,\n",
       "   20: 0.8101776556907364,\n",
       "   21: 0.7416933837384206,\n",
       "   22: 0.7892252418435324,\n",
       "   23: 0.5240295200555792}},\n",
       " 3: {0: {0: 0.713148637168988,\n",
       "   1: 0.656522362679309,\n",
       "   2: 0.656522362679309,\n",
       "   3: 0.5148313530210835,\n",
       "   4: 0.6565364012990615,\n",
       "   5: 0.6565364012990615,\n",
       "   6: 0.6565364012990615,\n",
       "   7: 0.6710798630933615,\n",
       "   8: 0.6908785047205145,\n",
       "   9: 0.7465357322922567,\n",
       "   10: 0.6908785047205145,\n",
       "   11: 0.6154055459657994,\n",
       "   12: 0.4415783698237197,\n",
       "   13: 0.486500393775958,\n",
       "   14: 0.6391054719180196,\n",
       "   15: 0.5468700783160014,\n",
       "   16: 0.5888806009185322,\n",
       "   17: 0.6890377957833469,\n",
       "   18: 0.5076481400437066,\n",
       "   19: 0.7176048075980747,\n",
       "   20: 0.7817831449464879,\n",
       "   21: 0.7335875950946573,\n",
       "   22: 0.7835719666888339,\n",
       "   23: 0.49913795048768383}},\n",
       " 4: {0: {0: 0.7101618322120079,\n",
       "   1: 0.6275746488431492,\n",
       "   2: 0.6275746488431492,\n",
       "   3: 0.4446545272125453,\n",
       "   4: 0.6903521608818037,\n",
       "   5: 0.6903521608818037,\n",
       "   6: 0.6903521608818037,\n",
       "   7: 0.6834854856361106,\n",
       "   8: 0.7180261035091359,\n",
       "   9: 0.760785590933792,\n",
       "   10: 0.7180261035091359,\n",
       "   11: 0.6445779536771281,\n",
       "   12: 0.43262996370677576,\n",
       "   13: 0.48169607318149343,\n",
       "   14: 0.6464138285955304,\n",
       "   15: 0.5386782474888879,\n",
       "   16: 0.5511490855342556,\n",
       "   17: 0.6660164659074124,\n",
       "   18: 0.46072594964760527,\n",
       "   19: 0.7205772669993061,\n",
       "   20: 0.7949653981809718,\n",
       "   21: 0.7121495152318141,\n",
       "   22: 0.8051427895215781,\n",
       "   23: 0.47954099055019794},\n",
       "  1: {0: 0.7345696884143262,\n",
       "   1: 0.6669425393795744,\n",
       "   2: 0.6669425393795744,\n",
       "   3: 0.5186872192211075,\n",
       "   4: 0.6707471565981031,\n",
       "   5: 0.6707471565981031,\n",
       "   6: 0.6707471565981031,\n",
       "   7: 0.6798863291227959,\n",
       "   8: 0.6844248295027848,\n",
       "   9: 0.751953766035823,\n",
       "   10: 0.6844248295027848,\n",
       "   11: 0.6114475288534671,\n",
       "   12: 0.44794120845712015,\n",
       "   13: 0.5024860857674126,\n",
       "   14: 0.6460703273863062,\n",
       "   15: 0.5479586717877284,\n",
       "   16: 0.582729585654973,\n",
       "   17: 0.674969081084727,\n",
       "   18: 0.47938565208465644,\n",
       "   19: 0.732819548256291,\n",
       "   20: 0.8001158372271093,\n",
       "   21: 0.7479908570262872,\n",
       "   22: 0.8356381053881569,\n",
       "   23: 0.5104432756229045}},\n",
       " 5: {0: {0: 0.6483541236559196,\n",
       "   1: 0.4996825230524471,\n",
       "   2: 0.4996825230524471,\n",
       "   3: 0.45583396962964484,\n",
       "   4: 0.5261757974734275,\n",
       "   5: 0.5261757974734275,\n",
       "   6: 0.5261757974734275,\n",
       "   7: 0.5514994165548275,\n",
       "   8: 0.572680212739743,\n",
       "   9: 0.6438745229420975,\n",
       "   10: 0.572680212739743,\n",
       "   11: 0.4858904201170553,\n",
       "   12: 0.3758996058630235,\n",
       "   13: 0.4053935236489684,\n",
       "   14: 0.48594055118923274,\n",
       "   15: 0.41514816992103565,\n",
       "   16: 0.47705289030300757,\n",
       "   17: 0.5722441629169713,\n",
       "   18: 0.3581093766038064,\n",
       "   19: 0.7163012069226254,\n",
       "   20: 0.6481151887394448,\n",
       "   21: 0.6286754818496038,\n",
       "   22: 0.7255967668692468,\n",
       "   23: 0.3560415329281317}},\n",
       " 6: {0: {0: 0.82384136122931,\n",
       "   1: 0.3471741797052077,\n",
       "   2: 0.3471741797052077,\n",
       "   3: 0.8058471744260567,\n",
       "   4: 0.4120183497682217,\n",
       "   5: 0.4120183497682217,\n",
       "   6: 0.4120183497682217,\n",
       "   7: 0.6008560416099127,\n",
       "   8: 0.40433270459325366,\n",
       "   9: 0.7203358488884364,\n",
       "   10: 0.40433270459325366,\n",
       "   11: 0.41946401769355823,\n",
       "   12: 0.5522107341500655,\n",
       "   13: 0.6726159210174533,\n",
       "   14: 0.4738453741594044,\n",
       "   15: 0.5067897160982399,\n",
       "   16: 0.843429515144454,\n",
       "   17: 0.6546471313941223,\n",
       "   18: 0.5546721646170045,\n",
       "   19: 0.7097921046661079,\n",
       "   20: 0.5161421939212534,\n",
       "   21: 0.7700986588334379,\n",
       "   22: 0.7283901197335373,\n",
       "   23: 0.2462265187776287},\n",
       "  1: {0: 0.5930339353674646,\n",
       "   1: 0.29365646753432484,\n",
       "   2: 0.29365646753432484,\n",
       "   3: 0.5730753021181757,\n",
       "   4: 0.43294512408280816,\n",
       "   5: 0.43294512408280816,\n",
       "   6: 0.43294512408280816,\n",
       "   7: 0.5398928462628031,\n",
       "   8: 0.4025874508261751,\n",
       "   9: 0.5872665590856647,\n",
       "   10: 0.4025874508261751,\n",
       "   11: 0.4318064259669281,\n",
       "   12: 0.5642150819362148,\n",
       "   13: 0.6467512690681303,\n",
       "   14: 0.5020546120154797,\n",
       "   15: 0.48176940587547357,\n",
       "   16: 0.6404354179106223,\n",
       "   17: 0.5028713228359681,\n",
       "   18: 0.4796379960448516,\n",
       "   19: 0.5235168940791661,\n",
       "   20: 0.45324279901670894,\n",
       "   21: 0.6006661491052654,\n",
       "   22: 0.5191848247657401,\n",
       "   23: 0.42905389898283863},\n",
       "  2: {0: 0.6494268036871621,\n",
       "   1: 0.6512967090729813,\n",
       "   2: 0.6512967090729813,\n",
       "   3: 0.5081382337139224,\n",
       "   4: 0.5304894220115854,\n",
       "   5: 0.5304894220115854,\n",
       "   6: 0.5304894220115854,\n",
       "   7: 0.5381683644721632,\n",
       "   8: 0.5432055213493908,\n",
       "   9: 0.6083354043292052,\n",
       "   10: 0.5432055213493908,\n",
       "   11: 0.4831718812943657,\n",
       "   12: 0.36726971530000374,\n",
       "   13: 0.41925620750595605,\n",
       "   14: 0.5705624139866022,\n",
       "   15: 0.5052780487472964,\n",
       "   16: 0.4926847742434396,\n",
       "   17: 0.5747641413940628,\n",
       "   18: 0.40627663607228137,\n",
       "   19: 0.6147400653674419,\n",
       "   20: 0.7037061786006586,\n",
       "   21: 0.6521173659436663,\n",
       "   22: 0.7255006388112399,\n",
       "   23: 0.4197108530090443}},\n",
       " 7: {0: {0: 0.7499078516199126,\n",
       "   1: 0.6575988290190599,\n",
       "   2: 0.6575988290190599,\n",
       "   3: 0.5243514665023549,\n",
       "   4: 0.6603369665339099,\n",
       "   5: 0.6603369665339099,\n",
       "   6: 0.6603369665339099,\n",
       "   7: 0.6788733270611075,\n",
       "   8: 0.6939968708444361,\n",
       "   9: 0.766603891507206,\n",
       "   10: 0.6939968708444361,\n",
       "   11: 0.6158541100405269,\n",
       "   12: 0.43248742834215503,\n",
       "   13: 0.4945113019820109,\n",
       "   14: 0.6617144541453406,\n",
       "   15: 0.5702101839655197,\n",
       "   16: 0.6069891025951508,\n",
       "   17: 0.685568208598018,\n",
       "   18: 0.5035304655245182,\n",
       "   19: 0.7201052683132405,\n",
       "   20: 0.8012584308626,\n",
       "   21: 0.7541661320887265,\n",
       "   22: 0.8175799354282146,\n",
       "   23: 0.4896217708213756},\n",
       "  1: {0: 0.7483855643774846,\n",
       "   1: 0.621652121761896,\n",
       "   2: 0.621652121761896,\n",
       "   3: 0.46531202241458125,\n",
       "   4: 0.6932489586190479,\n",
       "   5: 0.6932489586190479,\n",
       "   6: 0.6932489586190479,\n",
       "   7: 0.705635934643868,\n",
       "   8: 0.7287643817108928,\n",
       "   9: 0.7813892553584232,\n",
       "   10: 0.7287643817108928,\n",
       "   11: 0.6419717387577432,\n",
       "   12: 0.4607029099663511,\n",
       "   13: 0.5023418473153352,\n",
       "   14: 0.6538034720216976,\n",
       "   15: 0.5509920541502366,\n",
       "   16: 0.5955109514581113,\n",
       "   17: 0.6917049287797287,\n",
       "   18: 0.5067952939786231,\n",
       "   19: 0.7296159397814016,\n",
       "   20: 0.8206299607245544,\n",
       "   21: 0.7393514882883327,\n",
       "   22: 0.8067878578393247,\n",
       "   23: 0.4984654532810451}},\n",
       " 8: {0: {0: 0.7115647936168534,\n",
       "   1: 0.661901292379588,\n",
       "   2: 0.661901292379588,\n",
       "   3: 0.5280974105288172,\n",
       "   4: 0.6421152742617503,\n",
       "   5: 0.6421152742617503,\n",
       "   6: 0.6421152742617503,\n",
       "   7: 0.6516493746742712,\n",
       "   8: 0.674160254517659,\n",
       "   9: 0.7403450325705383,\n",
       "   10: 0.674160254517659,\n",
       "   11: 0.5999445417048634,\n",
       "   12: 0.4282003165860949,\n",
       "   13: 0.4793656472174195,\n",
       "   14: 0.627163293104149,\n",
       "   15: 0.5370695652756642,\n",
       "   16: 0.5711595693314405,\n",
       "   17: 0.6545065986685732,\n",
       "   18: 0.4684142329543163,\n",
       "   19: 0.7058461247043896,\n",
       "   20: 0.7872525442330107,\n",
       "   21: 0.7300909926569605,\n",
       "   22: 0.8086427644494281,\n",
       "   23: 0.476177911632228},\n",
       "  1: {0: 0.6694502334075519,\n",
       "   1: 0.6377801007739703,\n",
       "   2: 0.6377801007739703,\n",
       "   3: 0.47999757078151695,\n",
       "   4: 0.6692691444795692,\n",
       "   5: 0.6692691444795692,\n",
       "   6: 0.6692691444795692,\n",
       "   7: 0.6601475885044963,\n",
       "   8: 0.7058237161438131,\n",
       "   9: 0.7417929109084276,\n",
       "   10: 0.7058237161438131,\n",
       "   11: 0.6434993428849386,\n",
       "   12: 0.4065703344414964,\n",
       "   13: 0.44919460904292463,\n",
       "   14: 0.6326515144995588,\n",
       "   15: 0.5318874190627061,\n",
       "   16: 0.5386086502239961,\n",
       "   17: 0.6618034247689106,\n",
       "   18: 0.4589969384292609,\n",
       "   19: 0.685282636999941,\n",
       "   20: 0.7581832959087438,\n",
       "   21: 0.6956300975330767,\n",
       "   22: 0.7694491531099238,\n",
       "   23: 0.46569309170289186},\n",
       "  2: {0: 0.6948091742503868,\n",
       "   1: 0.634284749409536,\n",
       "   2: 0.634284749409536,\n",
       "   3: 0.48351219081066743,\n",
       "   4: 0.6556449069315229,\n",
       "   5: 0.6556449069315229,\n",
       "   6: 0.6556449069315229,\n",
       "   7: 0.661775049180628,\n",
       "   8: 0.6915643253644553,\n",
       "   9: 0.7457966754799054,\n",
       "   10: 0.6915643253644553,\n",
       "   11: 0.6163584804058518,\n",
       "   12: 0.3995106339901141,\n",
       "   13: 0.44817953932622656,\n",
       "   14: 0.6168043181928685,\n",
       "   15: 0.5104970087166459,\n",
       "   16: 0.5713161608123194,\n",
       "   17: 0.6844806529073131,\n",
       "   18: 0.48273230377345167,\n",
       "   19: 0.7130244745971692,\n",
       "   20: 0.7740013696821149,\n",
       "   21: 0.7103876385550221,\n",
       "   22: 0.7923067326368791,\n",
       "   23: 0.4686384760585127}},\n",
       " 9: {0: {0: 0.7348832465239024,\n",
       "   1: 0.6156728225340568,\n",
       "   2: 0.6156728225340568,\n",
       "   3: 0.4473373259782887,\n",
       "   4: 0.6891928012235002,\n",
       "   5: 0.6891928012235002,\n",
       "   6: 0.6891928012235002,\n",
       "   7: 0.6968474415864285,\n",
       "   8: 0.7259453643773138,\n",
       "   9: 0.7739463427640575,\n",
       "   10: 0.7259453643773138,\n",
       "   11: 0.618080485885082,\n",
       "   12: 0.46089678780483756,\n",
       "   13: 0.5007718482953506,\n",
       "   14: 0.6591544095517793,\n",
       "   15: 0.5435475850852777,\n",
       "   16: 0.6017037837446388,\n",
       "   17: 0.6991652586380559,\n",
       "   18: 0.5260249971008547,\n",
       "   19: 0.7014833272470427,\n",
       "   20: 0.8271872206014116,\n",
       "   21: 0.7146751066836168,\n",
       "   22: 0.7881747749164303,\n",
       "   23: 0.5099657807324378},\n",
       "  1: {0: 0.7406877740746713,\n",
       "   1: 0.6106068045815604,\n",
       "   2: 0.6106068045815604,\n",
       "   3: 0.4677639571875787,\n",
       "   4: 0.6466296884075474,\n",
       "   5: 0.6466296884075474,\n",
       "   6: 0.6466296884075474,\n",
       "   7: 0.6752050010696865,\n",
       "   8: 0.6877357085612295,\n",
       "   9: 0.7565456889231613,\n",
       "   10: 0.6877357085612295,\n",
       "   11: 0.5977733275770704,\n",
       "   12: 0.4395240743558386,\n",
       "   13: 0.484309307422655,\n",
       "   14: 0.6082090216304427,\n",
       "   15: 0.510504449271844,\n",
       "   16: 0.5890622017375075,\n",
       "   17: 0.6890241674909107,\n",
       "   18: 0.48541266188449317,\n",
       "   19: 0.7497812926052093,\n",
       "   20: 0.7985272870947094,\n",
       "   21: 0.7239517648704096,\n",
       "   22: 0.81751832573875,\n",
       "   23: 0.45231186062983864}},\n",
       " 10: {0: {0: 0.7444823906034245,\n",
       "   1: 0.6292563015234001,\n",
       "   2: 0.6292563015234001,\n",
       "   3: 0.48583057799958107,\n",
       "   4: 0.6596464248439207,\n",
       "   5: 0.6596464248439207,\n",
       "   6: 0.6596464248439207,\n",
       "   7: 0.6901580807949654,\n",
       "   8: 0.7053995611458009,\n",
       "   9: 0.772811312695798,\n",
       "   10: 0.7053995611458009,\n",
       "   11: 0.6077237171171782,\n",
       "   12: 0.45079177954232463,\n",
       "   13: 0.4956724388956313,\n",
       "   14: 0.613212249574747,\n",
       "   15: 0.5132230341257163,\n",
       "   16: 0.6046771577483182,\n",
       "   17: 0.6936332828389996,\n",
       "   18: 0.5043831540441263,\n",
       "   19: 0.763695861415982,\n",
       "   20: 0.812466497064632,\n",
       "   21: 0.7448541804864177,\n",
       "   22: 0.8314611660756108,\n",
       "   23: 0.49306511902059436},\n",
       "  1: {0: 0.7310810017462142,\n",
       "   1: 0.6067205651936838,\n",
       "   2: 0.6067205651936838,\n",
       "   3: 0.4748094193670067,\n",
       "   4: 0.669727749028027,\n",
       "   5: 0.669727749028027,\n",
       "   6: 0.669727749028027,\n",
       "   7: 0.6876642997639646,\n",
       "   8: 0.7038013787452831,\n",
       "   9: 0.7657476389437472,\n",
       "   10: 0.7038013787452831,\n",
       "   11: 0.615972578623615,\n",
       "   12: 0.4454865642157324,\n",
       "   13: 0.48568015637913375,\n",
       "   14: 0.604309552538314,\n",
       "   15: 0.5001097943129801,\n",
       "   16: 0.5942700101958116,\n",
       "   17: 0.6826298822016699,\n",
       "   18: 0.4988961771460969,\n",
       "   19: 0.7361078850645592,\n",
       "   20: 0.8190463012280152,\n",
       "   21: 0.761097768200901,\n",
       "   22: 0.8080544658992599,\n",
       "   23: 0.5034582814208911}},\n",
       " 11: {0: {0: 0.6843080575346766,\n",
       "   1: 0.6989844698709804,\n",
       "   2: 0.6989844698709804,\n",
       "   3: 0.49689968423590214,\n",
       "   4: 0.6746695986041841,\n",
       "   5: 0.6746695986041841,\n",
       "   6: 0.6746695986041841,\n",
       "   7: 0.6712562342818326,\n",
       "   8: 0.6845170046473983,\n",
       "   9: 0.7218304251120584,\n",
       "   10: 0.6845170046473983,\n",
       "   11: 0.6241876565218258,\n",
       "   12: 0.485486283720848,\n",
       "   13: 0.5367315952316333,\n",
       "   14: 0.6545735560100192,\n",
       "   15: 0.5576885392862668,\n",
       "   16: 0.5484789764988466,\n",
       "   17: 0.6524575106549882,\n",
       "   18: 0.4811949218013041,\n",
       "   19: 0.6841924032011062,\n",
       "   20: 0.819041216425206,\n",
       "   21: 0.7474096103839639,\n",
       "   22: 0.781863633535261,\n",
       "   23: 0.5816396027710143}},\n",
       " 12: {0: {0: 0.727126350775477,\n",
       "   1: 0.6179924267611427,\n",
       "   2: 0.6179924267611427,\n",
       "   3: 0.449578600232591,\n",
       "   4: 0.6579263210215435,\n",
       "   5: 0.6579263210215435,\n",
       "   6: 0.6579263210215435,\n",
       "   7: 0.6771601155847508,\n",
       "   8: 0.7152545619319458,\n",
       "   9: 0.7625964664924008,\n",
       "   10: 0.7152545619319458,\n",
       "   11: 0.6145062936465908,\n",
       "   12: 0.4399183318772022,\n",
       "   13: 0.4877650573195854,\n",
       "   14: 0.6395365863793208,\n",
       "   15: 0.5358214223809027,\n",
       "   16: 0.571634270511909,\n",
       "   17: 0.6648693748170809,\n",
       "   18: 0.48534425615808763,\n",
       "   19: 0.7108174472957915,\n",
       "   20: 0.8234947801877267,\n",
       "   21: 0.7405326946670773,\n",
       "   22: 0.7969450370745719,\n",
       "   23: 0.5071995877484221},\n",
       "  1: {0: 0.7491246284159407,\n",
       "   1: 0.6417705407524799,\n",
       "   2: 0.6417705407524799,\n",
       "   3: 0.47769973502640517,\n",
       "   4: 0.6783176147439518,\n",
       "   5: 0.6783176147439518,\n",
       "   6: 0.6783176147439518,\n",
       "   7: 0.7002267443820225,\n",
       "   8: 0.7361621389815249,\n",
       "   9: 0.7918809054784225,\n",
       "   10: 0.7361621389815249,\n",
       "   11: 0.633875996938021,\n",
       "   12: 0.4854178014849204,\n",
       "   13: 0.5324498975794152,\n",
       "   14: 0.6652028363936636,\n",
       "   15: 0.5627635632655555,\n",
       "   16: 0.6024583009818696,\n",
       "   17: 0.6699437313758025,\n",
       "   18: 0.5086866940700397,\n",
       "   19: 0.7137875163947452,\n",
       "   20: 0.8471835404629865,\n",
       "   21: 0.7571834548898586,\n",
       "   22: 0.8144363067595791,\n",
       "   23: 0.5238321547963826}}}"
      ]
     },
     "execution_count": 32,
     "metadata": {},
     "output_type": "execute_result"
    }
   ],
   "source": [
    "result"
   ]
  },
  {
   "cell_type": "code",
   "execution_count": 33,
   "metadata": {},
   "outputs": [],
   "source": [
    "df = pd.DataFrame(data = result)"
   ]
  },
  {
   "cell_type": "code",
   "execution_count": 34,
   "metadata": {},
   "outputs": [
    {
     "data": {
      "text/html": [
       "<div>\n",
       "<style scoped>\n",
       "    .dataframe tbody tr th:only-of-type {\n",
       "        vertical-align: middle;\n",
       "    }\n",
       "\n",
       "    .dataframe tbody tr th {\n",
       "        vertical-align: top;\n",
       "    }\n",
       "\n",
       "    .dataframe thead th {\n",
       "        text-align: right;\n",
       "    }\n",
       "</style>\n",
       "<table border=\"1\" class=\"dataframe\">\n",
       "  <thead>\n",
       "    <tr style=\"text-align: right;\">\n",
       "      <th></th>\n",
       "      <th>0</th>\n",
       "      <th>1</th>\n",
       "      <th>2</th>\n",
       "      <th>3</th>\n",
       "      <th>4</th>\n",
       "      <th>5</th>\n",
       "      <th>6</th>\n",
       "      <th>7</th>\n",
       "      <th>8</th>\n",
       "      <th>9</th>\n",
       "      <th>10</th>\n",
       "      <th>11</th>\n",
       "      <th>12</th>\n",
       "    </tr>\n",
       "  </thead>\n",
       "  <tbody>\n",
       "    <tr>\n",
       "      <th>0</th>\n",
       "      <td>{0: 0.7380313947636018, 1: 0.639040311472416, ...</td>\n",
       "      <td>{0: 0.7019558854863002, 1: 0.6196085385338588,...</td>\n",
       "      <td>{0: 0.7399287815256737, 1: 0.6003290801138464,...</td>\n",
       "      <td>{0: 0.713148637168988, 1: 0.656522362679309, 2...</td>\n",
       "      <td>{0: 0.7101618322120079, 1: 0.6275746488431492,...</td>\n",
       "      <td>{0: 0.6483541236559196, 1: 0.4996825230524471,...</td>\n",
       "      <td>{0: 0.82384136122931, 1: 0.3471741797052077, 2...</td>\n",
       "      <td>{0: 0.7499078516199126, 1: 0.6575988290190599,...</td>\n",
       "      <td>{0: 0.7115647936168534, 1: 0.661901292379588, ...</td>\n",
       "      <td>{0: 0.7348832465239024, 1: 0.6156728225340568,...</td>\n",
       "      <td>{0: 0.7444823906034245, 1: 0.6292563015234001,...</td>\n",
       "      <td>{0: 0.6843080575346766, 1: 0.6989844698709804,...</td>\n",
       "      <td>{0: 0.727126350775477, 1: 0.6179924267611427, ...</td>\n",
       "    </tr>\n",
       "    <tr>\n",
       "      <th>1</th>\n",
       "      <td>{0: 0.7374886384264616, 1: 0.6393984939270011,...</td>\n",
       "      <td>{0: 0.7437184270116837, 1: 0.6223720292390601,...</td>\n",
       "      <td>NaN</td>\n",
       "      <td>NaN</td>\n",
       "      <td>{0: 0.7345696884143262, 1: 0.6669425393795744,...</td>\n",
       "      <td>NaN</td>\n",
       "      <td>{0: 0.5930339353674646, 1: 0.29365646753432484...</td>\n",
       "      <td>{0: 0.7483855643774846, 1: 0.621652121761896, ...</td>\n",
       "      <td>{0: 0.6694502334075519, 1: 0.6377801007739703,...</td>\n",
       "      <td>{0: 0.7406877740746713, 1: 0.6106068045815604,...</td>\n",
       "      <td>{0: 0.7310810017462142, 1: 0.6067205651936838,...</td>\n",
       "      <td>NaN</td>\n",
       "      <td>{0: 0.7491246284159407, 1: 0.6417705407524799,...</td>\n",
       "    </tr>\n",
       "    <tr>\n",
       "      <th>2</th>\n",
       "      <td>NaN</td>\n",
       "      <td>NaN</td>\n",
       "      <td>NaN</td>\n",
       "      <td>NaN</td>\n",
       "      <td>NaN</td>\n",
       "      <td>NaN</td>\n",
       "      <td>{0: 0.6494268036871621, 1: 0.6512967090729813,...</td>\n",
       "      <td>NaN</td>\n",
       "      <td>{0: 0.6948091742503868, 1: 0.634284749409536, ...</td>\n",
       "      <td>NaN</td>\n",
       "      <td>NaN</td>\n",
       "      <td>NaN</td>\n",
       "      <td>NaN</td>\n",
       "    </tr>\n",
       "  </tbody>\n",
       "</table>\n",
       "</div>"
      ],
      "text/plain": [
       "                                                  0   \\\n",
       "0  {0: 0.7380313947636018, 1: 0.639040311472416, ...   \n",
       "1  {0: 0.7374886384264616, 1: 0.6393984939270011,...   \n",
       "2                                                NaN   \n",
       "\n",
       "                                                  1   \\\n",
       "0  {0: 0.7019558854863002, 1: 0.6196085385338588,...   \n",
       "1  {0: 0.7437184270116837, 1: 0.6223720292390601,...   \n",
       "2                                                NaN   \n",
       "\n",
       "                                                  2   \\\n",
       "0  {0: 0.7399287815256737, 1: 0.6003290801138464,...   \n",
       "1                                                NaN   \n",
       "2                                                NaN   \n",
       "\n",
       "                                                  3   \\\n",
       "0  {0: 0.713148637168988, 1: 0.656522362679309, 2...   \n",
       "1                                                NaN   \n",
       "2                                                NaN   \n",
       "\n",
       "                                                  4   \\\n",
       "0  {0: 0.7101618322120079, 1: 0.6275746488431492,...   \n",
       "1  {0: 0.7345696884143262, 1: 0.6669425393795744,...   \n",
       "2                                                NaN   \n",
       "\n",
       "                                                  5   \\\n",
       "0  {0: 0.6483541236559196, 1: 0.4996825230524471,...   \n",
       "1                                                NaN   \n",
       "2                                                NaN   \n",
       "\n",
       "                                                  6   \\\n",
       "0  {0: 0.82384136122931, 1: 0.3471741797052077, 2...   \n",
       "1  {0: 0.5930339353674646, 1: 0.29365646753432484...   \n",
       "2  {0: 0.6494268036871621, 1: 0.6512967090729813,...   \n",
       "\n",
       "                                                  7   \\\n",
       "0  {0: 0.7499078516199126, 1: 0.6575988290190599,...   \n",
       "1  {0: 0.7483855643774846, 1: 0.621652121761896, ...   \n",
       "2                                                NaN   \n",
       "\n",
       "                                                  8   \\\n",
       "0  {0: 0.7115647936168534, 1: 0.661901292379588, ...   \n",
       "1  {0: 0.6694502334075519, 1: 0.6377801007739703,...   \n",
       "2  {0: 0.6948091742503868, 1: 0.634284749409536, ...   \n",
       "\n",
       "                                                  9   \\\n",
       "0  {0: 0.7348832465239024, 1: 0.6156728225340568,...   \n",
       "1  {0: 0.7406877740746713, 1: 0.6106068045815604,...   \n",
       "2                                                NaN   \n",
       "\n",
       "                                                  10  \\\n",
       "0  {0: 0.7444823906034245, 1: 0.6292563015234001,...   \n",
       "1  {0: 0.7310810017462142, 1: 0.6067205651936838,...   \n",
       "2                                                NaN   \n",
       "\n",
       "                                                  11  \\\n",
       "0  {0: 0.6843080575346766, 1: 0.6989844698709804,...   \n",
       "1                                                NaN   \n",
       "2                                                NaN   \n",
       "\n",
       "                                                  12  \n",
       "0  {0: 0.727126350775477, 1: 0.6179924267611427, ...  \n",
       "1  {0: 0.7491246284159407, 1: 0.6417705407524799,...  \n",
       "2                                                NaN  "
      ]
     },
     "execution_count": 34,
     "metadata": {},
     "output_type": "execute_result"
    }
   ],
   "source": [
    "df"
   ]
  },
  {
   "cell_type": "code",
   "execution_count": 95,
   "metadata": {},
   "outputs": [
    {
     "data": {
      "text/plain": [
       "('./data/cv/bi1.json',\n",
       " {0: (23, 0.9710198832120538), 1: (23, 0.9566941807552548)})"
      ]
     },
     "execution_count": 95,
     "metadata": {},
     "output_type": "execute_result"
    }
   ],
   "source": [
    "vec_resume_job[0]"
   ]
  },
  {
   "cell_type": "code",
   "execution_count": 86,
   "metadata": {},
   "outputs": [
    {
     "data": {
      "text/plain": [
       "('./data/cv/ds2.json',\n",
       " {0: 0.9898917816464292,\n",
       "  1: 0.9881069007616945,\n",
       "  2: 0.9881735673020922,\n",
       "  3: 0.9845695751773832,\n",
       "  4: 0.9882941749347125,\n",
       "  5: 0.9864980278796214,\n",
       "  6: 0.9819275766918045,\n",
       "  7: 0.9880999087940268,\n",
       "  8: 0.9771467541197982,\n",
       "  9: 0.9839289899764694,\n",
       "  10: 0.9889154005279274,\n",
       "  11: 0.9873960288176611,\n",
       "  12: 0.9828353224165212,\n",
       "  13: 0.9849584403590242,\n",
       "  14: 0.9604765963704472,\n",
       "  15: 0.9880978854861572,\n",
       "  16: 0.9798542567396272,\n",
       "  17: 0.9805101001518488,\n",
       "  18: 0.9756826264531244,\n",
       "  19: 0.9836406622899623,\n",
       "  20: 0.9803060123409688,\n",
       "  21: 0.9812629788668187,\n",
       "  22: 0.9851933463340727,\n",
       "  23: 0.9849324799180167})"
      ]
     },
     "execution_count": 86,
     "metadata": {},
     "output_type": "execute_result"
    }
   ],
   "source": [
    "vec_resume_job[7]"
   ]
  },
  {
   "cell_type": "code",
   "execution_count": 35,
   "metadata": {},
   "outputs": [],
   "source": [
    "import seaborn as sns"
   ]
  },
  {
   "cell_type": "code",
   "execution_count": 42,
   "metadata": {},
   "outputs": [
    {
     "data": {
      "text/plain": [
       "<matplotlib.axes._subplots.AxesSubplot at 0x1d1883d8a58>"
      ]
     },
     "execution_count": 42,
     "metadata": {},
     "output_type": "execute_result"
    },
    {
     "data": {
      "image/png": "[encoded data removed]",
      "text/plain": [
       "<Figure size 432x288 with 1 Axes>"
      ]
     },
     "metadata": {
      "needs_background": "light"
     },
     "output_type": "display_data"
    }
   ],
   "source": [
    "profile = df.iloc[0].loc[0]\n",
    "sns.barplot(x = list(profile.keys()), y = list(profile.values()))"
   ]
  },
  {
   "cell_type": "code",
   "execution_count": 70,
   "metadata": {},
   "outputs": [],
   "source": [
    "def plot_profiles(dataframe):\n",
    "    shpe = dataframe.shape\n",
    "    fig, axes = plt.subplots(shpe[1],shpe[0],figsize=[15,60])\n",
    "    fig.suptitle('This is a somewhat long figure title')\n",
    "    for i in range(shpe[1]):\n",
    "        for j in range(shpe[0]):\n",
    "            data = dataframe.iloc[j].loc[i]\n",
    "            if data is not np.nan:\n",
    "                sns.barplot(x = list(profile.keys()), y = list(profile.values()), ax = axes[i][j])\n",
    "            else:\n",
    "                pass\n",
    "    return fig"
   ]
  },
  {
   "cell_type": "code",
   "execution_count": 71,
   "metadata": {
    "scrolled": false
   },
   "outputs": [
    {
     "data": {
      "image/png": "[encoded data removed]",
      "text/plain": [
       "<Figure size 1080x4320 with 39 Axes>"
      ]
     },
     "metadata": {
      "needs_background": "light"
     },
     "output_type": "display_data"
    }
   ],
   "source": [
    "fig = plot_profiles(df)"
   ]
  },
  {
   "cell_type": "code",
   "execution_count": null,
   "metadata": {},
   "outputs": [],
   "source": []
  }
 ],
 "metadata": {
  "kernelspec": {
   "display_name": "Python 3",
   "language": "python",
   "name": "python3"
  },
  "language_info": {
   "codemirror_mode": {
    "name": "ipython",
    "version": 3
   },
   "file_extension": ".py",
   "mimetype": "text/x-python",
   "name": "python",
   "nbconvert_exporter": "python",
   "pygments_lexer": "ipython3",
   "version": "3.7.3"
  }
 },
 "nbformat": 4,
 "nbformat_minor": 2
}
